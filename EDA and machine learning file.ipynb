{
 "cells": [
  {
   "cell_type": "markdown",
   "id": "90444fda",
   "metadata": {},
   "source": [
    "# Phase  3                                                    \n",
    "\n",
    "## Now make only 1 dataframe of 3 csv file using concat/merge /join operation of pandas and start doing EDA . Do the complete EDA in details to explore the insights of data\n",
    "## and write the detailed observation of each analysis "
   ]
  },
  {
   "cell_type": "markdown",
   "id": "9f35d77d",
   "metadata": {},
   "source": [
    "# Phase 4\n",
    "## Write the complete Machine learning code to make predictions of buy  total  price , carpet area  and property type."
   ]
  },
  {
   "cell_type": "code",
   "execution_count": 103,
   "id": "61a71f21",
   "metadata": {},
   "outputs": [],
   "source": [
    "import pandas as pd # for data wrangling purpose\n",
    "import numpy as np # Basic computation library\n",
    "import seaborn as sns # For Visualization \n",
    "import matplotlib.pyplot as plt # ploting package\n",
    "%matplotlib inline\n",
    "import warnings # Filtering warnings\n",
    "warnings.filterwarnings('ignore')"
   ]
  },
  {
   "cell_type": "code",
   "execution_count": 104,
   "id": "d346c908",
   "metadata": {},
   "outputs": [
    {
     "data": {
      "text/html": [
       "        <script type=\"text/javascript\">\n",
       "        window.PlotlyConfig = {MathJaxConfig: 'local'};\n",
       "        if (window.MathJax) {MathJax.Hub.Config({SVG: {font: \"STIX-Web\"}});}\n",
       "        if (typeof require !== 'undefined') {\n",
       "        require.undef(\"plotly\");\n",
       "        requirejs.config({\n",
       "            paths: {\n",
       "                'plotly': ['https://cdn.plot.ly/plotly-latest.min']\n",
       "            }\n",
       "        });\n",
       "        require(['plotly'], function(Plotly) {\n",
       "            window._Plotly = Plotly;\n",
       "        });\n",
       "        }\n",
       "        </script>\n",
       "        "
      ]
     },
     "metadata": {},
     "output_type": "display_data"
    }
   ],
   "source": [
    "warnings.filterwarnings(\"ignore\",category=DeprecationWarning)\n",
    "import plotly.offline as py\n",
    "import plotly.graph_objs as go\n",
    "from plotly.offline import init_notebook_mode\n",
    "init_notebook_mode(connected=True)\n",
    "from plotly import tools"
   ]
  },
  {
   "cell_type": "code",
   "execution_count": 105,
   "id": "1f1a875d",
   "metadata": {},
   "outputs": [],
   "source": [
    "from sklearn.metrics import accuracy_score\n",
    "from sklearn.metrics import confusion_matrix\n",
    "from sklearn.model_selection import train_test_split\n",
    "\n",
    "from sklearn.linear_model import LogisticRegression\n",
    "from sklearn.linear_model import LinearRegression\n",
    "\n",
    "from sklearn.ensemble import RandomForestClassifier\n",
    "from sklearn.ensemble import RandomForestRegressor"
   ]
  },
  {
   "cell_type": "code",
   "execution_count": 106,
   "id": "e198e555",
   "metadata": {},
   "outputs": [],
   "source": [
    "df1=pd.read_csv('E:/table1.csv')"
   ]
  },
  {
   "cell_type": "code",
   "execution_count": 107,
   "id": "c6d9dfd1",
   "metadata": {},
   "outputs": [],
   "source": [
    "df2=pd.read_csv('E:/table2.csv')"
   ]
  },
  {
   "cell_type": "code",
   "execution_count": 108,
   "id": "5f75443e",
   "metadata": {},
   "outputs": [],
   "source": [
    "df3=pd.read_csv('E:/table3.csv')"
   ]
  },
  {
   "cell_type": "markdown",
   "id": "5bee5449",
   "metadata": {},
   "source": [
    "# Preprocessing\n"
   ]
  },
  {
   "cell_type": "markdown",
   "id": "a6042b2e",
   "metadata": {},
   "source": [
    "# Convert object type to numeric dataytype for some columns"
   ]
  },
  {
   "cell_type": "markdown",
   "id": "7262fbf5",
   "metadata": {},
   "source": [
    "##### displaying int,float and object columns"
   ]
  },
  {
   "cell_type": "code",
   "execution_count": 109,
   "id": "4afbc37d",
   "metadata": {},
   "outputs": [
    {
     "name": "stdout",
     "output_type": "stream",
     "text": [
      "<class 'pandas.core.frame.DataFrame'>\n",
      "RangeIndex: 3163 entries, 0 to 3162\n",
      "Data columns (total 8 columns):\n",
      " #   Column        Non-Null Count  Dtype  \n",
      "---  ------        --------------  -----  \n",
      " 0   Srno          3163 non-null   int64  \n",
      " 1   Address       3163 non-null   object \n",
      " 2   Beds          3163 non-null   int64  \n",
      " 3   bathroom      3163 non-null   float64\n",
      " 4   PropertyType  3163 non-null   object \n",
      " 5   Balcony       3163 non-null   int64  \n",
      " 6   City          3163 non-null   object \n",
      " 7   BHKType       3163 non-null   int64  \n",
      "dtypes: float64(1), int64(4), object(3)\n",
      "memory usage: 197.8+ KB\n"
     ]
    }
   ],
   "source": [
    "df1.info()"
   ]
  },
  {
   "cell_type": "code",
   "execution_count": 110,
   "id": "c7247056",
   "metadata": {},
   "outputs": [
    {
     "name": "stdout",
     "output_type": "stream",
     "text": [
      "<class 'pandas.core.frame.DataFrame'>\n",
      "RangeIndex: 3163 entries, 0 to 3162\n",
      "Data columns (total 6 columns):\n",
      " #   Column        Non-Null Count  Dtype \n",
      "---  ------        --------------  ----- \n",
      " 0   CarpetArea    3163 non-null   int64 \n",
      " 1   Pricepersqft  3163 non-null   int64 \n",
      " 2   priceinr      3163 non-null   int64 \n",
      " 3   Status        3163 non-null   object\n",
      " 4   YearBuilt     3163 non-null   int64 \n",
      " 5   floor         3163 non-null   int64 \n",
      "dtypes: int64(5), object(1)\n",
      "memory usage: 148.4+ KB\n"
     ]
    }
   ],
   "source": [
    "df2.info()"
   ]
  },
  {
   "cell_type": "code",
   "execution_count": 111,
   "id": "55e6a708",
   "metadata": {},
   "outputs": [
    {
     "name": "stdout",
     "output_type": "stream",
     "text": [
      "<class 'pandas.core.frame.DataFrame'>\n",
      "RangeIndex: 3164 entries, 0 to 3163\n",
      "Data columns (total 6 columns):\n",
      " #   Column            Non-Null Count  Dtype \n",
      "---  ------            --------------  ----- \n",
      " 0   buytotalprice     3164 non-null   int64 \n",
      " 1   carparking        3164 non-null   object\n",
      " 2   Typeofownership   3164 non-null   object\n",
      " 3   Facing            3164 non-null   object\n",
      " 4   Bookingamount     3164 non-null   int64 \n",
      " 5   FurnishingStatus  3164 non-null   object\n",
      "dtypes: int64(2), object(4)\n",
      "memory usage: 148.4+ KB\n"
     ]
    }
   ],
   "source": [
    "df3.info()"
   ]
  },
  {
   "cell_type": "code",
   "execution_count": 112,
   "id": "f578d3ce",
   "metadata": {},
   "outputs": [],
   "source": [
    "df = pd.concat([df1, df2, df3], axis=1)"
   ]
  },
  {
   "cell_type": "code",
   "execution_count": 113,
   "id": "96d08d67",
   "metadata": {},
   "outputs": [
    {
     "data": {
      "text/html": [
       "<div>\n",
       "<style scoped>\n",
       "    .dataframe tbody tr th:only-of-type {\n",
       "        vertical-align: middle;\n",
       "    }\n",
       "\n",
       "    .dataframe tbody tr th {\n",
       "        vertical-align: top;\n",
       "    }\n",
       "\n",
       "    .dataframe thead th {\n",
       "        text-align: right;\n",
       "    }\n",
       "</style>\n",
       "<table border=\"1\" class=\"dataframe\">\n",
       "  <thead>\n",
       "    <tr style=\"text-align: right;\">\n",
       "      <th></th>\n",
       "      <th>Srno</th>\n",
       "      <th>Address</th>\n",
       "      <th>Beds</th>\n",
       "      <th>bathroom</th>\n",
       "      <th>PropertyType</th>\n",
       "      <th>Balcony</th>\n",
       "      <th>City</th>\n",
       "      <th>BHKType</th>\n",
       "      <th>CarpetArea</th>\n",
       "      <th>Pricepersqft</th>\n",
       "      <th>priceinr</th>\n",
       "      <th>Status</th>\n",
       "      <th>YearBuilt</th>\n",
       "      <th>floor</th>\n",
       "      <th>buytotalprice</th>\n",
       "      <th>carparking</th>\n",
       "      <th>Typeofownership</th>\n",
       "      <th>Facing</th>\n",
       "      <th>Bookingamount</th>\n",
       "      <th>FurnishingStatus</th>\n",
       "    </tr>\n",
       "  </thead>\n",
       "  <tbody>\n",
       "    <tr>\n",
       "      <th>0</th>\n",
       "      <td>1.0</td>\n",
       "      <td>1813 24th Ave Unit A, Seattle, WA 98122</td>\n",
       "      <td>2.0</td>\n",
       "      <td>2.0</td>\n",
       "      <td>Home</td>\n",
       "      <td>1.0</td>\n",
       "      <td>Seattle, WA</td>\n",
       "      <td>1.0</td>\n",
       "      <td>889.0</td>\n",
       "      <td>602.0</td>\n",
       "      <td>50039.0</td>\n",
       "      <td>ready</td>\n",
       "      <td>2008.0</td>\n",
       "      <td>3.0</td>\n",
       "      <td>535000</td>\n",
       "      <td>yes</td>\n",
       "      <td>individual</td>\n",
       "      <td>east</td>\n",
       "      <td>1000</td>\n",
       "      <td>Semi furnished</td>\n",
       "    </tr>\n",
       "    <tr>\n",
       "      <th>1</th>\n",
       "      <td>2.0</td>\n",
       "      <td>9518 Interlake Ave N, Seattle, WA 98103</td>\n",
       "      <td>3.0</td>\n",
       "      <td>2.0</td>\n",
       "      <td>Home</td>\n",
       "      <td>1.0</td>\n",
       "      <td>Seattle, WA</td>\n",
       "      <td>1.0</td>\n",
       "      <td>1225.0</td>\n",
       "      <td>694.0</td>\n",
       "      <td>57686.0</td>\n",
       "      <td>ready</td>\n",
       "      <td>2008.0</td>\n",
       "      <td>3.0</td>\n",
       "      <td>850000</td>\n",
       "      <td>yes</td>\n",
       "      <td>individual</td>\n",
       "      <td>east</td>\n",
       "      <td>1000</td>\n",
       "      <td>Semi furnished</td>\n",
       "    </tr>\n",
       "    <tr>\n",
       "      <th>2</th>\n",
       "      <td>3.0</td>\n",
       "      <td>1817 24th Ave Unit A, Seattle, WA 98122</td>\n",
       "      <td>3.0</td>\n",
       "      <td>3.0</td>\n",
       "      <td>Home</td>\n",
       "      <td>1.0</td>\n",
       "      <td>Seattle, WA</td>\n",
       "      <td>1.0</td>\n",
       "      <td>1470.0</td>\n",
       "      <td>531.0</td>\n",
       "      <td>44137.0</td>\n",
       "      <td>ready</td>\n",
       "      <td>2008.0</td>\n",
       "      <td>3.0</td>\n",
       "      <td>780000</td>\n",
       "      <td>yes</td>\n",
       "      <td>individual</td>\n",
       "      <td>east</td>\n",
       "      <td>1000</td>\n",
       "      <td>Semi furnished</td>\n",
       "    </tr>\n",
       "    <tr>\n",
       "      <th>3</th>\n",
       "      <td>4.0</td>\n",
       "      <td>2206 28th Ave W, Seattle, WA 98199</td>\n",
       "      <td>3.0</td>\n",
       "      <td>1.0</td>\n",
       "      <td>Home</td>\n",
       "      <td>1.0</td>\n",
       "      <td>Seattle, WA</td>\n",
       "      <td>1.0</td>\n",
       "      <td>958.0</td>\n",
       "      <td>583.0</td>\n",
       "      <td>48459.0</td>\n",
       "      <td>ready</td>\n",
       "      <td>2008.0</td>\n",
       "      <td>3.0</td>\n",
       "      <td>425000</td>\n",
       "      <td>yes</td>\n",
       "      <td>individual</td>\n",
       "      <td>east</td>\n",
       "      <td>1000</td>\n",
       "      <td>Semi furnished</td>\n",
       "    </tr>\n",
       "    <tr>\n",
       "      <th>4</th>\n",
       "      <td>5.0</td>\n",
       "      <td>912 Martin Luther King Jr Way S, Seattle, WA 9...</td>\n",
       "      <td>2.0</td>\n",
       "      <td>1.0</td>\n",
       "      <td>Home</td>\n",
       "      <td>1.0</td>\n",
       "      <td>Seattle, WA</td>\n",
       "      <td>1.0</td>\n",
       "      <td>729.0</td>\n",
       "      <td>760.0</td>\n",
       "      <td>63172.0</td>\n",
       "      <td>ready</td>\n",
       "      <td>2008.0</td>\n",
       "      <td>3.0</td>\n",
       "      <td>488500</td>\n",
       "      <td>yes</td>\n",
       "      <td>individual</td>\n",
       "      <td>east</td>\n",
       "      <td>1000</td>\n",
       "      <td>Semi furnished</td>\n",
       "    </tr>\n",
       "    <tr>\n",
       "      <th>...</th>\n",
       "      <td>...</td>\n",
       "      <td>...</td>\n",
       "      <td>...</td>\n",
       "      <td>...</td>\n",
       "      <td>...</td>\n",
       "      <td>...</td>\n",
       "      <td>...</td>\n",
       "      <td>...</td>\n",
       "      <td>...</td>\n",
       "      <td>...</td>\n",
       "      <td>...</td>\n",
       "      <td>...</td>\n",
       "      <td>...</td>\n",
       "      <td>...</td>\n",
       "      <td>...</td>\n",
       "      <td>...</td>\n",
       "      <td>...</td>\n",
       "      <td>...</td>\n",
       "      <td>...</td>\n",
       "      <td>...</td>\n",
       "    </tr>\n",
       "    <tr>\n",
       "      <th>3159</th>\n",
       "      <td>3168.0</td>\n",
       "      <td>6602 E Corrine Dr, Scottsdale, AZ 85254</td>\n",
       "      <td>4.0</td>\n",
       "      <td>4.0</td>\n",
       "      <td>home</td>\n",
       "      <td>2.0</td>\n",
       "      <td>Phoenix</td>\n",
       "      <td>2.0</td>\n",
       "      <td>1448.0</td>\n",
       "      <td>335.0</td>\n",
       "      <td>27846.0</td>\n",
       "      <td>ready</td>\n",
       "      <td>2015.0</td>\n",
       "      <td>6.0</td>\n",
       "      <td>219400</td>\n",
       "      <td>no</td>\n",
       "      <td>individual</td>\n",
       "      <td>east</td>\n",
       "      <td>5550</td>\n",
       "      <td>fully furnished</td>\n",
       "    </tr>\n",
       "    <tr>\n",
       "      <th>3160</th>\n",
       "      <td>3169.0</td>\n",
       "      <td>1219 E Silverwood Dr, Phoenix, AZ 85048</td>\n",
       "      <td>3.0</td>\n",
       "      <td>2.0</td>\n",
       "      <td>home</td>\n",
       "      <td>2.0</td>\n",
       "      <td>Phoenix</td>\n",
       "      <td>2.0</td>\n",
       "      <td>1256.0</td>\n",
       "      <td>271.0</td>\n",
       "      <td>22526.0</td>\n",
       "      <td>ready</td>\n",
       "      <td>2015.0</td>\n",
       "      <td>6.0</td>\n",
       "      <td>1850000</td>\n",
       "      <td>no</td>\n",
       "      <td>individual</td>\n",
       "      <td>east</td>\n",
       "      <td>5551</td>\n",
       "      <td>fully furnished</td>\n",
       "    </tr>\n",
       "    <tr>\n",
       "      <th>3161</th>\n",
       "      <td>3170.0</td>\n",
       "      <td>17818 N 45th Ave, Glendale, AZ 85308</td>\n",
       "      <td>3.0</td>\n",
       "      <td>2.0</td>\n",
       "      <td>home</td>\n",
       "      <td>2.0</td>\n",
       "      <td>Phoenix</td>\n",
       "      <td>2.0</td>\n",
       "      <td>1680.0</td>\n",
       "      <td>223.0</td>\n",
       "      <td>18536.0</td>\n",
       "      <td>ready</td>\n",
       "      <td>2015.0</td>\n",
       "      <td>6.0</td>\n",
       "      <td>485000</td>\n",
       "      <td>no</td>\n",
       "      <td>individual</td>\n",
       "      <td>east</td>\n",
       "      <td>5552</td>\n",
       "      <td>fully furnished</td>\n",
       "    </tr>\n",
       "    <tr>\n",
       "      <th>3162</th>\n",
       "      <td>3171.0</td>\n",
       "      <td>4029 N 75th Dr, Phoenix, AZ 85033</td>\n",
       "      <td>4.0</td>\n",
       "      <td>2.0</td>\n",
       "      <td>home</td>\n",
       "      <td>1.0</td>\n",
       "      <td>Phoenix</td>\n",
       "      <td>2.0</td>\n",
       "      <td>1762.0</td>\n",
       "      <td>293.0</td>\n",
       "      <td>24355.0</td>\n",
       "      <td>ready</td>\n",
       "      <td>2015.0</td>\n",
       "      <td>6.0</td>\n",
       "      <td>340000</td>\n",
       "      <td>no</td>\n",
       "      <td>individual</td>\n",
       "      <td>east</td>\n",
       "      <td>5553</td>\n",
       "      <td>fully furnished</td>\n",
       "    </tr>\n",
       "    <tr>\n",
       "      <th>3163</th>\n",
       "      <td>NaN</td>\n",
       "      <td>NaN</td>\n",
       "      <td>NaN</td>\n",
       "      <td>NaN</td>\n",
       "      <td>NaN</td>\n",
       "      <td>NaN</td>\n",
       "      <td>NaN</td>\n",
       "      <td>NaN</td>\n",
       "      <td>NaN</td>\n",
       "      <td>NaN</td>\n",
       "      <td>NaN</td>\n",
       "      <td>NaN</td>\n",
       "      <td>NaN</td>\n",
       "      <td>NaN</td>\n",
       "      <td>374900</td>\n",
       "      <td>no</td>\n",
       "      <td>individual</td>\n",
       "      <td>east</td>\n",
       "      <td>5554</td>\n",
       "      <td>fully furnished</td>\n",
       "    </tr>\n",
       "  </tbody>\n",
       "</table>\n",
       "<p>3164 rows × 20 columns</p>\n",
       "</div>"
      ],
      "text/plain": [
       "        Srno                                            Address  Beds  \\\n",
       "0        1.0            1813 24th Ave Unit A, Seattle, WA 98122   2.0   \n",
       "1        2.0            9518 Interlake Ave N, Seattle, WA 98103   3.0   \n",
       "2        3.0            1817 24th Ave Unit A, Seattle, WA 98122   3.0   \n",
       "3        4.0                 2206 28th Ave W, Seattle, WA 98199   3.0   \n",
       "4        5.0  912 Martin Luther King Jr Way S, Seattle, WA 9...   2.0   \n",
       "...      ...                                                ...   ...   \n",
       "3159  3168.0            6602 E Corrine Dr, Scottsdale, AZ 85254   4.0   \n",
       "3160  3169.0            1219 E Silverwood Dr, Phoenix, AZ 85048   3.0   \n",
       "3161  3170.0               17818 N 45th Ave, Glendale, AZ 85308   3.0   \n",
       "3162  3171.0                  4029 N 75th Dr, Phoenix, AZ 85033   4.0   \n",
       "3163     NaN                                                NaN   NaN   \n",
       "\n",
       "      bathroom PropertyType  Balcony         City  BHKType  CarpetArea  \\\n",
       "0          2.0         Home      1.0  Seattle, WA      1.0       889.0   \n",
       "1          2.0         Home      1.0  Seattle, WA      1.0      1225.0   \n",
       "2          3.0         Home      1.0  Seattle, WA      1.0      1470.0   \n",
       "3          1.0         Home      1.0  Seattle, WA      1.0       958.0   \n",
       "4          1.0         Home      1.0  Seattle, WA      1.0       729.0   \n",
       "...        ...          ...      ...          ...      ...         ...   \n",
       "3159       4.0         home      2.0      Phoenix      2.0      1448.0   \n",
       "3160       2.0         home      2.0      Phoenix      2.0      1256.0   \n",
       "3161       2.0         home      2.0      Phoenix      2.0      1680.0   \n",
       "3162       2.0         home      1.0      Phoenix      2.0      1762.0   \n",
       "3163       NaN          NaN      NaN          NaN      NaN         NaN   \n",
       "\n",
       "      Pricepersqft  priceinr Status  YearBuilt  floor  buytotalprice  \\\n",
       "0            602.0   50039.0  ready     2008.0    3.0         535000   \n",
       "1            694.0   57686.0  ready     2008.0    3.0         850000   \n",
       "2            531.0   44137.0  ready     2008.0    3.0         780000   \n",
       "3            583.0   48459.0  ready     2008.0    3.0         425000   \n",
       "4            760.0   63172.0  ready     2008.0    3.0         488500   \n",
       "...            ...       ...    ...        ...    ...            ...   \n",
       "3159         335.0   27846.0  ready     2015.0    6.0         219400   \n",
       "3160         271.0   22526.0  ready     2015.0    6.0        1850000   \n",
       "3161         223.0   18536.0  ready     2015.0    6.0         485000   \n",
       "3162         293.0   24355.0  ready     2015.0    6.0         340000   \n",
       "3163           NaN       NaN    NaN        NaN    NaN         374900   \n",
       "\n",
       "     carparking Typeofownership Facing  Bookingamount FurnishingStatus  \n",
       "0           yes      individual   east           1000   Semi furnished  \n",
       "1           yes      individual   east           1000   Semi furnished  \n",
       "2           yes      individual   east           1000   Semi furnished  \n",
       "3           yes      individual   east           1000   Semi furnished  \n",
       "4           yes      individual   east           1000   Semi furnished  \n",
       "...         ...             ...    ...            ...              ...  \n",
       "3159         no      individual   east           5550  fully furnished  \n",
       "3160         no      individual   east           5551  fully furnished  \n",
       "3161         no      individual   east           5552  fully furnished  \n",
       "3162         no      individual   east           5553  fully furnished  \n",
       "3163         no      individual   east           5554  fully furnished  \n",
       "\n",
       "[3164 rows x 20 columns]"
      ]
     },
     "execution_count": 113,
     "metadata": {},
     "output_type": "execute_result"
    }
   ],
   "source": [
    "df"
   ]
  },
  {
   "cell_type": "code",
   "execution_count": 114,
   "id": "068fae09",
   "metadata": {},
   "outputs": [
    {
     "name": "stdout",
     "output_type": "stream",
     "text": [
      "<class 'pandas.core.frame.DataFrame'>\n",
      "RangeIndex: 3164 entries, 0 to 3163\n",
      "Data columns (total 20 columns):\n",
      " #   Column            Non-Null Count  Dtype  \n",
      "---  ------            --------------  -----  \n",
      " 0   Srno              3163 non-null   float64\n",
      " 1   Address           3163 non-null   object \n",
      " 2   Beds              3163 non-null   float64\n",
      " 3   bathroom          3163 non-null   float64\n",
      " 4   PropertyType      3163 non-null   object \n",
      " 5   Balcony           3163 non-null   float64\n",
      " 6   City              3163 non-null   object \n",
      " 7   BHKType           3163 non-null   float64\n",
      " 8   CarpetArea        3163 non-null   float64\n",
      " 9   Pricepersqft      3163 non-null   float64\n",
      " 10  priceinr          3163 non-null   float64\n",
      " 11  Status            3163 non-null   object \n",
      " 12  YearBuilt         3163 non-null   float64\n",
      " 13  floor             3163 non-null   float64\n",
      " 14  buytotalprice     3164 non-null   int64  \n",
      " 15  carparking        3164 non-null   object \n",
      " 16  Typeofownership   3164 non-null   object \n",
      " 17  Facing            3164 non-null   object \n",
      " 18  Bookingamount     3164 non-null   int64  \n",
      " 19  FurnishingStatus  3164 non-null   object \n",
      "dtypes: float64(10), int64(2), object(8)\n",
      "memory usage: 494.5+ KB\n"
     ]
    }
   ],
   "source": [
    "df.info()"
   ]
  },
  {
   "cell_type": "code",
   "execution_count": 13,
   "id": "1e6140cd",
   "metadata": {},
   "outputs": [
    {
     "data": {
      "text/plain": [
       "{int64: ['buytotalprice', 'Bookingamount'], float64: ['Srno', 'Beds', 'bathroom', 'Balcony', 'BHKType', 'CarpetArea', 'Pricepersqft', 'priceinr', 'YearBuilt', 'floor'], object: ['Address', 'PropertyType', 'City', 'Status', 'carparking', 'Typeofownership', 'Facing', 'FurnishingStatus']}"
      ]
     },
     "execution_count": 13,
     "metadata": {},
     "output_type": "execute_result"
    }
   ],
   "source": [
    "# As we have 35 Columns Lets sort Columns by their datatype\n",
    "df.columns.to_series().groupby(df.dtypes).groups"
   ]
  },
  {
   "cell_type": "code",
   "execution_count": 14,
   "id": "d7f33dde",
   "metadata": {},
   "outputs": [
    {
     "data": {
      "text/plain": [
       "(3164, 20)"
      ]
     },
     "execution_count": 14,
     "metadata": {},
     "output_type": "execute_result"
    }
   ],
   "source": [
    "df.shape"
   ]
  },
  {
   "cell_type": "code",
   "execution_count": 15,
   "id": "978705d3",
   "metadata": {},
   "outputs": [
    {
     "data": {
      "text/plain": [
       "Index(['Srno', 'Address', 'Beds', 'bathroom', 'PropertyType', 'Balcony',\n",
       "       'City', 'BHKType', 'CarpetArea', 'Pricepersqft', 'priceinr', 'Status',\n",
       "       'YearBuilt', 'floor', 'buytotalprice', 'carparking', 'Typeofownership',\n",
       "       'Facing', 'Bookingamount', 'FurnishingStatus'],\n",
       "      dtype='object')"
      ]
     },
     "execution_count": 15,
     "metadata": {},
     "output_type": "execute_result"
    }
   ],
   "source": [
    "df.columns "
   ]
  },
  {
   "cell_type": "code",
   "execution_count": 16,
   "id": "ae4a791f",
   "metadata": {},
   "outputs": [
    {
     "data": {
      "text/html": [
       "<div>\n",
       "<style scoped>\n",
       "    .dataframe tbody tr th:only-of-type {\n",
       "        vertical-align: middle;\n",
       "    }\n",
       "\n",
       "    .dataframe tbody tr th {\n",
       "        vertical-align: top;\n",
       "    }\n",
       "\n",
       "    .dataframe thead th {\n",
       "        text-align: right;\n",
       "    }\n",
       "</style>\n",
       "<table border=\"1\" class=\"dataframe\">\n",
       "  <thead>\n",
       "    <tr style=\"text-align: right;\">\n",
       "      <th></th>\n",
       "      <th>Srno</th>\n",
       "      <th>Beds</th>\n",
       "      <th>bathroom</th>\n",
       "      <th>Balcony</th>\n",
       "      <th>BHK Type</th>\n",
       "      <th>CarpetArea</th>\n",
       "      <th>Price per sqft</th>\n",
       "      <th>price inr</th>\n",
       "      <th>Year Built</th>\n",
       "      <th>floor</th>\n",
       "      <th>buytotalprice</th>\n",
       "      <th>Booking_amount</th>\n",
       "    </tr>\n",
       "  </thead>\n",
       "  <tbody>\n",
       "    <tr>\n",
       "      <th>count</th>\n",
       "      <td>3163.000000</td>\n",
       "      <td>3163.000000</td>\n",
       "      <td>3163.000000</td>\n",
       "      <td>3163.000000</td>\n",
       "      <td>3163.000000</td>\n",
       "      <td>3163.000000</td>\n",
       "      <td>3163.000000</td>\n",
       "      <td>3163.000000</td>\n",
       "      <td>3163.000000</td>\n",
       "      <td>3163.000000</td>\n",
       "      <td>3.164000e+03</td>\n",
       "      <td>3164.000000</td>\n",
       "    </tr>\n",
       "    <tr>\n",
       "      <th>mean</th>\n",
       "      <td>1586.336390</td>\n",
       "      <td>2.773633</td>\n",
       "      <td>2.211508</td>\n",
       "      <td>1.869112</td>\n",
       "      <td>2.828328</td>\n",
       "      <td>1769.442934</td>\n",
       "      <td>449.060070</td>\n",
       "      <td>37326.349352</td>\n",
       "      <td>6075.953209</td>\n",
       "      <td>3.193171</td>\n",
       "      <td>7.699645e+05</td>\n",
       "      <td>3806.371681</td>\n",
       "    </tr>\n",
       "    <tr>\n",
       "      <th>std</th>\n",
       "      <td>916.108042</td>\n",
       "      <td>1.296119</td>\n",
       "      <td>1.104015</td>\n",
       "      <td>0.357362</td>\n",
       "      <td>0.730596</td>\n",
       "      <td>1231.298329</td>\n",
       "      <td>314.317861</td>\n",
       "      <td>26126.102847</td>\n",
       "      <td>7522.948767</td>\n",
       "      <td>1.919553</td>\n",
       "      <td>1.171701e+06</td>\n",
       "      <td>1171.287561</td>\n",
       "    </tr>\n",
       "    <tr>\n",
       "      <th>min</th>\n",
       "      <td>1.000000</td>\n",
       "      <td>0.000000</td>\n",
       "      <td>0.500000</td>\n",
       "      <td>0.000000</td>\n",
       "      <td>1.000000</td>\n",
       "      <td>0.000000</td>\n",
       "      <td>0.000000</td>\n",
       "      <td>0.000000</td>\n",
       "      <td>2008.000000</td>\n",
       "      <td>1.000000</td>\n",
       "      <td>1.000000e+00</td>\n",
       "      <td>1000.000000</td>\n",
       "    </tr>\n",
       "    <tr>\n",
       "      <th>25%</th>\n",
       "      <td>791.500000</td>\n",
       "      <td>2.000000</td>\n",
       "      <td>1.500000</td>\n",
       "      <td>2.000000</td>\n",
       "      <td>2.000000</td>\n",
       "      <td>1053.000000</td>\n",
       "      <td>224.000000</td>\n",
       "      <td>18619.000000</td>\n",
       "      <td>2015.000000</td>\n",
       "      <td>2.000000</td>\n",
       "      <td>3.186500e+05</td>\n",
       "      <td>3174.750000</td>\n",
       "    </tr>\n",
       "    <tr>\n",
       "      <th>50%</th>\n",
       "      <td>1588.000000</td>\n",
       "      <td>3.000000</td>\n",
       "      <td>2.000000</td>\n",
       "      <td>2.000000</td>\n",
       "      <td>3.000000</td>\n",
       "      <td>1470.000000</td>\n",
       "      <td>346.000000</td>\n",
       "      <td>28760.000000</td>\n",
       "      <td>2021.000000</td>\n",
       "      <td>2.000000</td>\n",
       "      <td>4.990000e+05</td>\n",
       "      <td>3970.500000</td>\n",
       "    </tr>\n",
       "    <tr>\n",
       "      <th>75%</th>\n",
       "      <td>2378.500000</td>\n",
       "      <td>3.000000</td>\n",
       "      <td>2.500000</td>\n",
       "      <td>2.000000</td>\n",
       "      <td>3.000000</td>\n",
       "      <td>2123.000000</td>\n",
       "      <td>617.000000</td>\n",
       "      <td>51286.000000</td>\n",
       "      <td>2022.000000</td>\n",
       "      <td>5.000000</td>\n",
       "      <td>8.799000e+05</td>\n",
       "      <td>4761.250000</td>\n",
       "    </tr>\n",
       "    <tr>\n",
       "      <th>max</th>\n",
       "      <td>3171.000000</td>\n",
       "      <td>14.000000</td>\n",
       "      <td>24.000000</td>\n",
       "      <td>2.000000</td>\n",
       "      <td>4.000000</td>\n",
       "      <td>22200.000000</td>\n",
       "      <td>3470.000000</td>\n",
       "      <td>288427.000000</td>\n",
       "      <td>20019.000000</td>\n",
       "      <td>6.000000</td>\n",
       "      <td>3.399500e+07</td>\n",
       "      <td>5554.000000</td>\n",
       "    </tr>\n",
       "  </tbody>\n",
       "</table>\n",
       "</div>"
      ],
      "text/plain": [
       "              Srno         Beds     bathroom      Balcony     BHK Type  \\\n",
       "count  3163.000000  3163.000000  3163.000000  3163.000000  3163.000000   \n",
       "mean   1586.336390     2.773633     2.211508     1.869112     2.828328   \n",
       "std     916.108042     1.296119     1.104015     0.357362     0.730596   \n",
       "min       1.000000     0.000000     0.500000     0.000000     1.000000   \n",
       "25%     791.500000     2.000000     1.500000     2.000000     2.000000   \n",
       "50%    1588.000000     3.000000     2.000000     2.000000     3.000000   \n",
       "75%    2378.500000     3.000000     2.500000     2.000000     3.000000   \n",
       "max    3171.000000    14.000000    24.000000     2.000000     4.000000   \n",
       "\n",
       "         CarpetArea  Price per sqft      price inr    Year Built        floor  \\\n",
       "count   3163.000000     3163.000000    3163.000000   3163.000000  3163.000000   \n",
       "mean    1769.442934      449.060070   37326.349352   6075.953209     3.193171   \n",
       "std     1231.298329      314.317861   26126.102847   7522.948767     1.919553   \n",
       "min        0.000000        0.000000       0.000000   2008.000000     1.000000   \n",
       "25%     1053.000000      224.000000   18619.000000   2015.000000     2.000000   \n",
       "50%     1470.000000      346.000000   28760.000000   2021.000000     2.000000   \n",
       "75%     2123.000000      617.000000   51286.000000   2022.000000     5.000000   \n",
       "max    22200.000000     3470.000000  288427.000000  20019.000000     6.000000   \n",
       "\n",
       "       buytotalprice  Booking_amount  \n",
       "count   3.164000e+03     3164.000000  \n",
       "mean    7.699645e+05     3806.371681  \n",
       "std     1.171701e+06     1171.287561  \n",
       "min     1.000000e+00     1000.000000  \n",
       "25%     3.186500e+05     3174.750000  \n",
       "50%     4.990000e+05     3970.500000  \n",
       "75%     8.799000e+05     4761.250000  \n",
       "max     3.399500e+07     5554.000000  "
      ]
     },
     "execution_count": 16,
     "metadata": {},
     "output_type": "execute_result"
    }
   ],
   "source": [
    "df.describe()"
   ]
  },
  {
   "cell_type": "code",
   "execution_count": 16,
   "id": "e5e1855d",
   "metadata": {},
   "outputs": [
    {
     "data": {
      "text/plain": [
       "0"
      ]
     },
     "execution_count": 16,
     "metadata": {},
     "output_type": "execute_result"
    }
   ],
   "source": [
    "df.duplicated().sum()"
   ]
  },
  {
   "cell_type": "code",
   "execution_count": 115,
   "id": "3109f388",
   "metadata": {},
   "outputs": [
    {
     "name": "stdout",
     "output_type": "stream",
     "text": [
      "                  Missing Values  % Missing data\n",
      "Srno                           1        0.031606\n",
      "CarpetArea                     1        0.031606\n",
      "floor                          1        0.031606\n",
      "YearBuilt                      1        0.031606\n",
      "Status                         1        0.031606\n",
      "Address                        1        0.031606\n",
      "Pricepersqft                   1        0.031606\n",
      "priceinr                       1        0.031606\n",
      "BHKType                        1        0.031606\n",
      "City                           1        0.031606\n",
      "Balcony                        1        0.031606\n",
      "PropertyType                   1        0.031606\n",
      "bathroom                       1        0.031606\n",
      "Beds                           1        0.031606\n",
      "buytotalprice                  0        0.000000\n",
      "carparking                     0        0.000000\n",
      "Typeofownership                0        0.000000\n",
      "Facing                         0        0.000000\n",
      "Bookingamount                  0        0.000000\n",
      "FurnishingStatus               0        0.000000\n"
     ]
    }
   ],
   "source": [
    "missing_values = df.isnull().sum().sort_values(ascending = False)\n",
    "percentage_missing_values =(missing_values/len(df))*100\n",
    "print(pd.concat([missing_values, percentage_missing_values], axis =1, keys =['Missing Values', '% Missing data']))"
   ]
  },
  {
   "cell_type": "markdown",
   "id": "e6f95721",
   "metadata": {},
   "source": [
    "# Dropping Null values"
   ]
  },
  {
   "cell_type": "code",
   "execution_count": 116,
   "id": "00f41c82",
   "metadata": {},
   "outputs": [
    {
     "name": "stdout",
     "output_type": "stream",
     "text": [
      "We had 3164 Rows and 20 Columns before dropping null values.\n",
      "We have 3163 Rows and 20 Columns after dropping null values.\n"
     ]
    }
   ],
   "source": [
    "print(\"We had {} Rows and {} Columns before dropping null values.\".format(df.shape[0], df.shape[1]))\n",
    "df.dropna(inplace=True)\n",
    "print(\"We have {} Rows and {} Columns after dropping null values.\".format(df.shape[0], df.shape[1]))"
   ]
  },
  {
   "cell_type": "code",
   "execution_count": 117,
   "id": "6a3c85ff",
   "metadata": {},
   "outputs": [
    {
     "data": {
      "text/html": [
       "<div>\n",
       "<style scoped>\n",
       "    .dataframe tbody tr th:only-of-type {\n",
       "        vertical-align: middle;\n",
       "    }\n",
       "\n",
       "    .dataframe tbody tr th {\n",
       "        vertical-align: top;\n",
       "    }\n",
       "\n",
       "    .dataframe thead th {\n",
       "        text-align: right;\n",
       "    }\n",
       "</style>\n",
       "<table border=\"1\" class=\"dataframe\">\n",
       "  <thead>\n",
       "    <tr style=\"text-align: right;\">\n",
       "      <th></th>\n",
       "      <th>Srno</th>\n",
       "      <th>Beds</th>\n",
       "      <th>bathroom</th>\n",
       "      <th>Balcony</th>\n",
       "      <th>BHKType</th>\n",
       "      <th>CarpetArea</th>\n",
       "      <th>Pricepersqft</th>\n",
       "      <th>priceinr</th>\n",
       "      <th>YearBuilt</th>\n",
       "      <th>floor</th>\n",
       "      <th>buytotalprice</th>\n",
       "      <th>Bookingamount</th>\n",
       "    </tr>\n",
       "  </thead>\n",
       "  <tbody>\n",
       "    <tr>\n",
       "      <th>count</th>\n",
       "      <td>3163.000000</td>\n",
       "      <td>3163.000000</td>\n",
       "      <td>3163.000000</td>\n",
       "      <td>3163.000000</td>\n",
       "      <td>3163.000000</td>\n",
       "      <td>3163.000000</td>\n",
       "      <td>3163.000000</td>\n",
       "      <td>3163.000000</td>\n",
       "      <td>3163.000000</td>\n",
       "      <td>3163.000000</td>\n",
       "      <td>3.163000e+03</td>\n",
       "      <td>3163.000000</td>\n",
       "    </tr>\n",
       "    <tr>\n",
       "      <th>mean</th>\n",
       "      <td>1586.336390</td>\n",
       "      <td>2.773633</td>\n",
       "      <td>2.211508</td>\n",
       "      <td>1.869112</td>\n",
       "      <td>2.828328</td>\n",
       "      <td>1769.442934</td>\n",
       "      <td>449.060070</td>\n",
       "      <td>37326.349352</td>\n",
       "      <td>6075.953209</td>\n",
       "      <td>3.193171</td>\n",
       "      <td>7.700894e+05</td>\n",
       "      <td>3805.819159</td>\n",
       "    </tr>\n",
       "    <tr>\n",
       "      <th>std</th>\n",
       "      <td>916.108042</td>\n",
       "      <td>1.296119</td>\n",
       "      <td>1.104015</td>\n",
       "      <td>0.357362</td>\n",
       "      <td>0.730596</td>\n",
       "      <td>1231.298329</td>\n",
       "      <td>314.317861</td>\n",
       "      <td>26126.102847</td>\n",
       "      <td>7522.948767</td>\n",
       "      <td>1.919553</td>\n",
       "      <td>1.171866e+06</td>\n",
       "      <td>1171.060294</td>\n",
       "    </tr>\n",
       "    <tr>\n",
       "      <th>min</th>\n",
       "      <td>1.000000</td>\n",
       "      <td>0.000000</td>\n",
       "      <td>0.500000</td>\n",
       "      <td>0.000000</td>\n",
       "      <td>1.000000</td>\n",
       "      <td>0.000000</td>\n",
       "      <td>0.000000</td>\n",
       "      <td>0.000000</td>\n",
       "      <td>2008.000000</td>\n",
       "      <td>1.000000</td>\n",
       "      <td>1.000000e+00</td>\n",
       "      <td>1000.000000</td>\n",
       "    </tr>\n",
       "    <tr>\n",
       "      <th>25%</th>\n",
       "      <td>791.500000</td>\n",
       "      <td>2.000000</td>\n",
       "      <td>1.500000</td>\n",
       "      <td>2.000000</td>\n",
       "      <td>2.000000</td>\n",
       "      <td>1053.000000</td>\n",
       "      <td>224.000000</td>\n",
       "      <td>18619.000000</td>\n",
       "      <td>2015.000000</td>\n",
       "      <td>2.000000</td>\n",
       "      <td>3.184000e+05</td>\n",
       "      <td>3174.500000</td>\n",
       "    </tr>\n",
       "    <tr>\n",
       "      <th>50%</th>\n",
       "      <td>1588.000000</td>\n",
       "      <td>3.000000</td>\n",
       "      <td>2.000000</td>\n",
       "      <td>2.000000</td>\n",
       "      <td>3.000000</td>\n",
       "      <td>1470.000000</td>\n",
       "      <td>346.000000</td>\n",
       "      <td>28760.000000</td>\n",
       "      <td>2021.000000</td>\n",
       "      <td>2.000000</td>\n",
       "      <td>4.990000e+05</td>\n",
       "      <td>3970.000000</td>\n",
       "    </tr>\n",
       "    <tr>\n",
       "      <th>75%</th>\n",
       "      <td>2378.500000</td>\n",
       "      <td>3.000000</td>\n",
       "      <td>2.500000</td>\n",
       "      <td>2.000000</td>\n",
       "      <td>3.000000</td>\n",
       "      <td>2123.000000</td>\n",
       "      <td>617.000000</td>\n",
       "      <td>51286.000000</td>\n",
       "      <td>2022.000000</td>\n",
       "      <td>5.000000</td>\n",
       "      <td>8.799000e+05</td>\n",
       "      <td>4760.500000</td>\n",
       "    </tr>\n",
       "    <tr>\n",
       "      <th>max</th>\n",
       "      <td>3171.000000</td>\n",
       "      <td>14.000000</td>\n",
       "      <td>24.000000</td>\n",
       "      <td>2.000000</td>\n",
       "      <td>4.000000</td>\n",
       "      <td>22200.000000</td>\n",
       "      <td>3470.000000</td>\n",
       "      <td>288427.000000</td>\n",
       "      <td>20019.000000</td>\n",
       "      <td>6.000000</td>\n",
       "      <td>3.399500e+07</td>\n",
       "      <td>5553.000000</td>\n",
       "    </tr>\n",
       "  </tbody>\n",
       "</table>\n",
       "</div>"
      ],
      "text/plain": [
       "              Srno         Beds     bathroom      Balcony      BHKType  \\\n",
       "count  3163.000000  3163.000000  3163.000000  3163.000000  3163.000000   \n",
       "mean   1586.336390     2.773633     2.211508     1.869112     2.828328   \n",
       "std     916.108042     1.296119     1.104015     0.357362     0.730596   \n",
       "min       1.000000     0.000000     0.500000     0.000000     1.000000   \n",
       "25%     791.500000     2.000000     1.500000     2.000000     2.000000   \n",
       "50%    1588.000000     3.000000     2.000000     2.000000     3.000000   \n",
       "75%    2378.500000     3.000000     2.500000     2.000000     3.000000   \n",
       "max    3171.000000    14.000000    24.000000     2.000000     4.000000   \n",
       "\n",
       "         CarpetArea  Pricepersqft       priceinr     YearBuilt        floor  \\\n",
       "count   3163.000000   3163.000000    3163.000000   3163.000000  3163.000000   \n",
       "mean    1769.442934    449.060070   37326.349352   6075.953209     3.193171   \n",
       "std     1231.298329    314.317861   26126.102847   7522.948767     1.919553   \n",
       "min        0.000000      0.000000       0.000000   2008.000000     1.000000   \n",
       "25%     1053.000000    224.000000   18619.000000   2015.000000     2.000000   \n",
       "50%     1470.000000    346.000000   28760.000000   2021.000000     2.000000   \n",
       "75%     2123.000000    617.000000   51286.000000   2022.000000     5.000000   \n",
       "max    22200.000000   3470.000000  288427.000000  20019.000000     6.000000   \n",
       "\n",
       "       buytotalprice  Bookingamount  \n",
       "count   3.163000e+03    3163.000000  \n",
       "mean    7.700894e+05    3805.819159  \n",
       "std     1.171866e+06    1171.060294  \n",
       "min     1.000000e+00    1000.000000  \n",
       "25%     3.184000e+05    3174.500000  \n",
       "50%     4.990000e+05    3970.000000  \n",
       "75%     8.799000e+05    4760.500000  \n",
       "max     3.399500e+07    5553.000000  "
      ]
     },
     "execution_count": 117,
     "metadata": {},
     "output_type": "execute_result"
    }
   ],
   "source": [
    "# Use include='all' option to generate descriptive statistics for all columns\n",
    "# You can get idea about which column has missing values using this\n",
    "df.describe()"
   ]
  },
  {
   "cell_type": "code",
   "execution_count": 118,
   "id": "4e2ad2c4",
   "metadata": {},
   "outputs": [
    {
     "data": {
      "text/plain": [
       "Srno                0\n",
       "Address             0\n",
       "Beds                0\n",
       "bathroom            0\n",
       "PropertyType        0\n",
       "Balcony             0\n",
       "City                0\n",
       "BHKType             0\n",
       "CarpetArea          0\n",
       "Pricepersqft        0\n",
       "priceinr            0\n",
       "Status              0\n",
       "YearBuilt           0\n",
       "floor               0\n",
       "buytotalprice       0\n",
       "carparking          0\n",
       "Typeofownership     0\n",
       "Facing              0\n",
       "Bookingamount       0\n",
       "FurnishingStatus    0\n",
       "dtype: int64"
      ]
     },
     "execution_count": 118,
     "metadata": {},
     "output_type": "execute_result"
    }
   ],
   "source": [
    "df.isnull().sum()  # Will show you null count for each column, but will not count Zeros(0) as null"
   ]
  },
  {
   "cell_type": "markdown",
   "id": "f672772e",
   "metadata": {},
   "source": [
    "- No missing values in the dataset"
   ]
  },
  {
   "cell_type": "code",
   "execution_count": 119,
   "id": "b53eebfd",
   "metadata": {},
   "outputs": [
    {
     "name": "stdout",
     "output_type": "stream",
     "text": [
      "                  Missing Values  % Missing data\n",
      "Srno                           0             0.0\n",
      "Address                        0             0.0\n",
      "Bookingamount                  0             0.0\n",
      "Facing                         0             0.0\n",
      "Typeofownership                0             0.0\n",
      "carparking                     0             0.0\n",
      "buytotalprice                  0             0.0\n",
      "floor                          0             0.0\n",
      "YearBuilt                      0             0.0\n",
      "Status                         0             0.0\n",
      "priceinr                       0             0.0\n",
      "Pricepersqft                   0             0.0\n",
      "CarpetArea                     0             0.0\n",
      "BHKType                        0             0.0\n",
      "City                           0             0.0\n",
      "Balcony                        0             0.0\n",
      "PropertyType                   0             0.0\n",
      "bathroom                       0             0.0\n",
      "Beds                           0             0.0\n",
      "FurnishingStatus               0             0.0\n"
     ]
    }
   ],
   "source": [
    "missing_values = df.isnull().sum().sort_values(ascending = False)\n",
    "percentage_missing_values =(missing_values/len(df))*100\n",
    "print(pd.concat([missing_values, percentage_missing_values], axis =1, keys =['Missing Values', '% Missing data']))"
   ]
  },
  {
   "cell_type": "code",
   "execution_count": 22,
   "id": "bb5ddacd",
   "metadata": {},
   "outputs": [
    {
     "data": {
      "text/plain": [
       "0"
      ]
     },
     "execution_count": 22,
     "metadata": {},
     "output_type": "execute_result"
    }
   ],
   "source": [
    "df.duplicated().sum()  # This will check the duplicate data for all columns."
   ]
  },
  {
   "cell_type": "code",
   "execution_count": 23,
   "id": "f075a4fc",
   "metadata": {},
   "outputs": [
    {
     "data": {
      "text/plain": [
       "<AxesSubplot:>"
      ]
     },
     "execution_count": 23,
     "metadata": {},
     "output_type": "execute_result"
    },
    {
     "data": {
      "image/png": "[encoded data removed]",
      "text/plain": [
       "<Figure size 2016x720 with 2 Axes>"
      ]
     },
     "metadata": {
      "needs_background": "light"
     },
     "output_type": "display_data"
    }
   ],
   "source": [
    "# Visualizing the statistics of the columns using heatmap.\n",
    "plt.figure(figsize=(28,10))\n",
    "sns.heatmap(df.describe(),linewidths = 0.1,fmt='0.1f',annot = True,cmap='PiYG')"
   ]
  },
  {
   "cell_type": "code",
   "execution_count": 120,
   "id": "0d79760d",
   "metadata": {},
   "outputs": [
    {
     "data": {
      "text/html": [
       "<div>\n",
       "<style scoped>\n",
       "    .dataframe tbody tr th:only-of-type {\n",
       "        vertical-align: middle;\n",
       "    }\n",
       "\n",
       "    .dataframe tbody tr th {\n",
       "        vertical-align: top;\n",
       "    }\n",
       "\n",
       "    .dataframe thead th {\n",
       "        text-align: right;\n",
       "    }\n",
       "</style>\n",
       "<table border=\"1\" class=\"dataframe\">\n",
       "  <thead>\n",
       "    <tr style=\"text-align: right;\">\n",
       "      <th></th>\n",
       "      <th>count</th>\n",
       "      <th>mean</th>\n",
       "      <th>std</th>\n",
       "      <th>min</th>\n",
       "      <th>25%</th>\n",
       "      <th>50%</th>\n",
       "      <th>75%</th>\n",
       "      <th>max</th>\n",
       "    </tr>\n",
       "  </thead>\n",
       "  <tbody>\n",
       "    <tr>\n",
       "      <th>Srno</th>\n",
       "      <td>3163.0</td>\n",
       "      <td>1586.336</td>\n",
       "      <td>916.108</td>\n",
       "      <td>1.0</td>\n",
       "      <td>791.5</td>\n",
       "      <td>1588.0</td>\n",
       "      <td>2378.5</td>\n",
       "      <td>3171.0</td>\n",
       "    </tr>\n",
       "    <tr>\n",
       "      <th>Beds</th>\n",
       "      <td>3163.0</td>\n",
       "      <td>2.774</td>\n",
       "      <td>1.296</td>\n",
       "      <td>0.0</td>\n",
       "      <td>2.0</td>\n",
       "      <td>3.0</td>\n",
       "      <td>3.0</td>\n",
       "      <td>14.0</td>\n",
       "    </tr>\n",
       "    <tr>\n",
       "      <th>bathroom</th>\n",
       "      <td>3163.0</td>\n",
       "      <td>2.212</td>\n",
       "      <td>1.104</td>\n",
       "      <td>0.5</td>\n",
       "      <td>1.5</td>\n",
       "      <td>2.0</td>\n",
       "      <td>2.5</td>\n",
       "      <td>24.0</td>\n",
       "    </tr>\n",
       "    <tr>\n",
       "      <th>Balcony</th>\n",
       "      <td>3163.0</td>\n",
       "      <td>1.869</td>\n",
       "      <td>0.357</td>\n",
       "      <td>0.0</td>\n",
       "      <td>2.0</td>\n",
       "      <td>2.0</td>\n",
       "      <td>2.0</td>\n",
       "      <td>2.0</td>\n",
       "    </tr>\n",
       "    <tr>\n",
       "      <th>BHKType</th>\n",
       "      <td>3163.0</td>\n",
       "      <td>2.828</td>\n",
       "      <td>0.731</td>\n",
       "      <td>1.0</td>\n",
       "      <td>2.0</td>\n",
       "      <td>3.0</td>\n",
       "      <td>3.0</td>\n",
       "      <td>4.0</td>\n",
       "    </tr>\n",
       "    <tr>\n",
       "      <th>CarpetArea</th>\n",
       "      <td>3163.0</td>\n",
       "      <td>1769.443</td>\n",
       "      <td>1231.298</td>\n",
       "      <td>0.0</td>\n",
       "      <td>1053.0</td>\n",
       "      <td>1470.0</td>\n",
       "      <td>2123.0</td>\n",
       "      <td>22200.0</td>\n",
       "    </tr>\n",
       "    <tr>\n",
       "      <th>Pricepersqft</th>\n",
       "      <td>3163.0</td>\n",
       "      <td>449.060</td>\n",
       "      <td>314.318</td>\n",
       "      <td>0.0</td>\n",
       "      <td>224.0</td>\n",
       "      <td>346.0</td>\n",
       "      <td>617.0</td>\n",
       "      <td>3470.0</td>\n",
       "    </tr>\n",
       "    <tr>\n",
       "      <th>priceinr</th>\n",
       "      <td>3163.0</td>\n",
       "      <td>37326.349</td>\n",
       "      <td>26126.103</td>\n",
       "      <td>0.0</td>\n",
       "      <td>18619.0</td>\n",
       "      <td>28760.0</td>\n",
       "      <td>51286.0</td>\n",
       "      <td>288427.0</td>\n",
       "    </tr>\n",
       "    <tr>\n",
       "      <th>YearBuilt</th>\n",
       "      <td>3163.0</td>\n",
       "      <td>6075.953</td>\n",
       "      <td>7522.949</td>\n",
       "      <td>2008.0</td>\n",
       "      <td>2015.0</td>\n",
       "      <td>2021.0</td>\n",
       "      <td>2022.0</td>\n",
       "      <td>20019.0</td>\n",
       "    </tr>\n",
       "    <tr>\n",
       "      <th>floor</th>\n",
       "      <td>3163.0</td>\n",
       "      <td>3.193</td>\n",
       "      <td>1.920</td>\n",
       "      <td>1.0</td>\n",
       "      <td>2.0</td>\n",
       "      <td>2.0</td>\n",
       "      <td>5.0</td>\n",
       "      <td>6.0</td>\n",
       "    </tr>\n",
       "    <tr>\n",
       "      <th>buytotalprice</th>\n",
       "      <td>3163.0</td>\n",
       "      <td>770089.423</td>\n",
       "      <td>1171865.613</td>\n",
       "      <td>1.0</td>\n",
       "      <td>318400.0</td>\n",
       "      <td>499000.0</td>\n",
       "      <td>879900.0</td>\n",
       "      <td>33995000.0</td>\n",
       "    </tr>\n",
       "    <tr>\n",
       "      <th>Bookingamount</th>\n",
       "      <td>3163.0</td>\n",
       "      <td>3805.819</td>\n",
       "      <td>1171.060</td>\n",
       "      <td>1000.0</td>\n",
       "      <td>3174.5</td>\n",
       "      <td>3970.0</td>\n",
       "      <td>4760.5</td>\n",
       "      <td>5553.0</td>\n",
       "    </tr>\n",
       "  </tbody>\n",
       "</table>\n",
       "</div>"
      ],
      "text/plain": [
       "                count        mean          std     min       25%       50%  \\\n",
       "Srno           3163.0    1586.336      916.108     1.0     791.5    1588.0   \n",
       "Beds           3163.0       2.774        1.296     0.0       2.0       3.0   \n",
       "bathroom       3163.0       2.212        1.104     0.5       1.5       2.0   \n",
       "Balcony        3163.0       1.869        0.357     0.0       2.0       2.0   \n",
       "BHKType        3163.0       2.828        0.731     1.0       2.0       3.0   \n",
       "CarpetArea     3163.0    1769.443     1231.298     0.0    1053.0    1470.0   \n",
       "Pricepersqft   3163.0     449.060      314.318     0.0     224.0     346.0   \n",
       "priceinr       3163.0   37326.349    26126.103     0.0   18619.0   28760.0   \n",
       "YearBuilt      3163.0    6075.953     7522.949  2008.0    2015.0    2021.0   \n",
       "floor          3163.0       3.193        1.920     1.0       2.0       2.0   \n",
       "buytotalprice  3163.0  770089.423  1171865.613     1.0  318400.0  499000.0   \n",
       "Bookingamount  3163.0    3805.819     1171.060  1000.0    3174.5    3970.0   \n",
       "\n",
       "                    75%         max  \n",
       "Srno             2378.5      3171.0  \n",
       "Beds                3.0        14.0  \n",
       "bathroom            2.5        24.0  \n",
       "Balcony             2.0         2.0  \n",
       "BHKType             3.0         4.0  \n",
       "CarpetArea       2123.0     22200.0  \n",
       "Pricepersqft      617.0      3470.0  \n",
       "priceinr        51286.0    288427.0  \n",
       "YearBuilt        2022.0     20019.0  \n",
       "floor               5.0         6.0  \n",
       "buytotalprice  879900.0  33995000.0  \n",
       "Bookingamount    4760.5      5553.0  "
      ]
     },
     "execution_count": 120,
     "metadata": {},
     "output_type": "execute_result"
    }
   ],
   "source": [
    "df.describe().T.round(3)"
   ]
  },
  {
   "cell_type": "code",
   "execution_count": 25,
   "id": "64718a5e",
   "metadata": {},
   "outputs": [
    {
     "data": {
      "text/plain": [
       "<AxesSubplot:xlabel='priceinr'>"
      ]
     },
     "execution_count": 25,
     "metadata": {},
     "output_type": "execute_result"
    },
    {
     "data": {
      "image/png": "[encoded data removed]",
      "text/plain": [
       "<Figure size 1080x648 with 1 Axes>"
      ]
     },
     "metadata": {},
     "output_type": "display_data"
    }
   ],
   "source": [
    "sns.set(font_scale=1.5) \n",
    "from scipy.stats import norm\n",
    "fig, ax = plt.subplots(figsize=(15, 9))\n",
    "sns.distplot(a=df.priceinr, kde=False, fit=norm)"
   ]
  },
  {
   "cell_type": "code",
   "execution_count": null,
   "id": "9339b37a",
   "metadata": {},
   "outputs": [],
   "source": [
    "Average Priceinr distribution shows that for most cases price is between 40000 to 50000"
   ]
  },
  {
   "cell_type": "markdown",
   "id": "46a6de6b",
   "metadata": {},
   "source": [
    "# correlation"
   ]
  },
  {
   "cell_type": "code",
   "execution_count": 47,
   "id": "f4612939",
   "metadata": {},
   "outputs": [
    {
     "data": {
      "text/plain": [
       "<AxesSubplot:>"
      ]
     },
     "execution_count": 47,
     "metadata": {},
     "output_type": "execute_result"
    },
    {
     "data": {
      "image/png": "[encoded data removed]",
      "text/plain": [
       "<Figure size 1224x720 with 2 Axes>"
      ]
     },
     "metadata": {},
     "output_type": "display_data"
    }
   ],
   "source": [
    "plt.figure(figsize=(17,10))\n",
    "sns.heatmap(df.corr(),cmap='coolwarm',annot=True)"
   ]
  },
  {
   "cell_type": "code",
   "execution_count": 45,
   "id": "169d3be6",
   "metadata": {},
   "outputs": [
    {
     "data": {
      "text/plain": [
       "(3163, 18)"
      ]
     },
     "execution_count": 45,
     "metadata": {},
     "output_type": "execute_result"
    }
   ],
   "source": [
    "df.shape"
   ]
  },
  {
   "cell_type": "markdown",
   "id": "fc66a2f0",
   "metadata": {},
   "source": [
    "yearbuilt is not correlated with booking amount"
   ]
  },
  {
   "cell_type": "code",
   "execution_count": 33,
   "id": "5942d863",
   "metadata": {},
   "outputs": [],
   "source": [
    "# Droping unnecessary columns\n",
    "df.drop(['Srno'], axis=1, inplace=True)"
   ]
  },
  {
   "cell_type": "code",
   "execution_count": 40,
   "id": "42f708da",
   "metadata": {},
   "outputs": [],
   "source": [
    "# Droping unnecessary columns\n",
    "df.drop(['Address'], axis=1, inplace=True)"
   ]
  },
  {
   "cell_type": "code",
   "execution_count": 48,
   "id": "4ab060a8",
   "metadata": {},
   "outputs": [],
   "source": [
    "# Droping unnecessary columns\n",
    "df.drop(['priceinr'], axis=1, inplace=True)"
   ]
  },
  {
   "cell_type": "code",
   "execution_count": null,
   "id": "81a6e5f7",
   "metadata": {},
   "outputs": [],
   "source": []
  },
  {
   "cell_type": "code",
   "execution_count": 49,
   "id": "16fffade",
   "metadata": {},
   "outputs": [
    {
     "name": "stdout",
     "output_type": "stream",
     "text": [
      "<class 'pandas.core.frame.DataFrame'>\n",
      "Int64Index: 3163 entries, 0 to 3162\n",
      "Data columns (total 17 columns):\n",
      " #   Column            Non-Null Count  Dtype  \n",
      "---  ------            --------------  -----  \n",
      " 0   Beds              3163 non-null   float64\n",
      " 1   bathroom          3163 non-null   float64\n",
      " 2   PropertyType      3163 non-null   float64\n",
      " 3   Balcony           3163 non-null   float64\n",
      " 4   City              3163 non-null   float64\n",
      " 5   BHKType           3163 non-null   float64\n",
      " 6   CarpetArea        3163 non-null   float64\n",
      " 7   Pricepersqft      3163 non-null   float64\n",
      " 8   Status            3163 non-null   float64\n",
      " 9   YearBuilt         3163 non-null   float64\n",
      " 10  floor             3163 non-null   float64\n",
      " 11  buytotalprice     3163 non-null   int64  \n",
      " 12  carparking        3163 non-null   float64\n",
      " 13  Typeofownership   3163 non-null   float64\n",
      " 14  Facing            3163 non-null   float64\n",
      " 15  Bookingamount     3163 non-null   int64  \n",
      " 16  FurnishingStatus  3163 non-null   float64\n",
      "dtypes: float64(15), int64(2)\n",
      "memory usage: 444.8 KB\n"
     ]
    }
   ],
   "source": [
    "df.info()"
   ]
  },
  {
   "cell_type": "markdown",
   "id": "33231e02",
   "metadata": {},
   "source": [
    "# Skewness"
   ]
  },
  {
   "cell_type": "code",
   "execution_count": 50,
   "id": "dea1ed65",
   "metadata": {},
   "outputs": [
    {
     "data": {
      "text/plain": [
       "Beds                 0.986265\n",
       "bathroom             4.011825\n",
       "PropertyType        -1.386809\n",
       "Balcony             -2.637324\n",
       "City                -0.156269\n",
       "BHKType             -0.111790\n",
       "CarpetArea           4.084757\n",
       "Pricepersqft         1.819851\n",
       "Status               0.070340\n",
       "YearBuilt            1.314855\n",
       "floor                0.295488\n",
       "buytotalprice       16.115203\n",
       "carparking          -0.238914\n",
       "Typeofownership      0.515515\n",
       "Facing               0.850930\n",
       "Bookingamount       -0.514335\n",
       "FurnishingStatus    -0.529676\n",
       "dtype: float64"
      ]
     },
     "execution_count": 50,
     "metadata": {},
     "output_type": "execute_result"
    }
   ],
   "source": [
    "df.skew()"
   ]
  },
  {
   "cell_type": "code",
   "execution_count": 51,
   "id": "bf76c8d4",
   "metadata": {},
   "outputs": [
    {
     "name": "stdout",
     "output_type": "stream",
     "text": [
      "<class 'pandas.core.frame.DataFrame'>\n",
      "Int64Index: 3163 entries, 0 to 3162\n",
      "Data columns (total 17 columns):\n",
      " #   Column            Non-Null Count  Dtype  \n",
      "---  ------            --------------  -----  \n",
      " 0   Beds              3163 non-null   float64\n",
      " 1   bathroom          3163 non-null   float64\n",
      " 2   PropertyType      3163 non-null   float64\n",
      " 3   Balcony           3163 non-null   float64\n",
      " 4   City              3163 non-null   float64\n",
      " 5   BHKType           3163 non-null   float64\n",
      " 6   CarpetArea        3163 non-null   float64\n",
      " 7   Pricepersqft      3163 non-null   float64\n",
      " 8   Status            3163 non-null   float64\n",
      " 9   YearBuilt         3163 non-null   float64\n",
      " 10  floor             3163 non-null   float64\n",
      " 11  buytotalprice     3163 non-null   int64  \n",
      " 12  carparking        3163 non-null   float64\n",
      " 13  Typeofownership   3163 non-null   float64\n",
      " 14  Facing            3163 non-null   float64\n",
      " 15  Bookingamount     3163 non-null   int64  \n",
      " 16  FurnishingStatus  3163 non-null   float64\n",
      "dtypes: float64(15), int64(2)\n",
      "memory usage: 444.8 KB\n"
     ]
    }
   ],
   "source": [
    "df.info()"
   ]
  },
  {
   "cell_type": "code",
   "execution_count": 52,
   "id": "93369c37",
   "metadata": {},
   "outputs": [
    {
     "data": {
      "text/plain": [
       "{int64: ['buytotalprice', 'Bookingamount'], float64: ['Beds', 'bathroom', 'PropertyType', 'Balcony', 'City', 'BHKType', 'CarpetArea', 'Pricepersqft', 'Status', 'YearBuilt', 'floor', 'carparking', 'Typeofownership', 'Facing', 'FurnishingStatus']}"
      ]
     },
     "execution_count": 52,
     "metadata": {},
     "output_type": "execute_result"
    }
   ],
   "source": [
    "df.columns.to_series().groupby(df.dtypes).groups"
   ]
  },
  {
   "cell_type": "markdown",
   "id": "3e4dad29",
   "metadata": {},
   "source": [
    "# Encoding categorical data"
   ]
  },
  {
   "cell_type": "code",
   "execution_count": 43,
   "id": "5109bdfd",
   "metadata": {},
   "outputs": [
    {
     "data": {
      "text/html": [
       "<div>\n",
       "<style scoped>\n",
       "    .dataframe tbody tr th:only-of-type {\n",
       "        vertical-align: middle;\n",
       "    }\n",
       "\n",
       "    .dataframe tbody tr th {\n",
       "        vertical-align: top;\n",
       "    }\n",
       "\n",
       "    .dataframe thead th {\n",
       "        text-align: right;\n",
       "    }\n",
       "</style>\n",
       "<table border=\"1\" class=\"dataframe\">\n",
       "  <thead>\n",
       "    <tr style=\"text-align: right;\">\n",
       "      <th></th>\n",
       "      <th>Beds</th>\n",
       "      <th>bathroom</th>\n",
       "      <th>PropertyType</th>\n",
       "      <th>Balcony</th>\n",
       "      <th>City</th>\n",
       "      <th>BHKType</th>\n",
       "      <th>CarpetArea</th>\n",
       "      <th>Pricepersqft</th>\n",
       "      <th>priceinr</th>\n",
       "      <th>Status</th>\n",
       "      <th>YearBuilt</th>\n",
       "      <th>floor</th>\n",
       "      <th>buytotalprice</th>\n",
       "      <th>carparking</th>\n",
       "      <th>Typeofownership</th>\n",
       "      <th>Facing</th>\n",
       "      <th>Bookingamount</th>\n",
       "      <th>FurnishingStatus</th>\n",
       "    </tr>\n",
       "  </thead>\n",
       "  <tbody>\n",
       "    <tr>\n",
       "      <th>0</th>\n",
       "      <td>2.0</td>\n",
       "      <td>2.0</td>\n",
       "      <td>0.0</td>\n",
       "      <td>1.0</td>\n",
       "      <td>36.0</td>\n",
       "      <td>1.0</td>\n",
       "      <td>889.0</td>\n",
       "      <td>602.0</td>\n",
       "      <td>50039.0</td>\n",
       "      <td>2.0</td>\n",
       "      <td>2008.0</td>\n",
       "      <td>3.0</td>\n",
       "      <td>535000</td>\n",
       "      <td>1.0</td>\n",
       "      <td>3.0</td>\n",
       "      <td>0.0</td>\n",
       "      <td>1000</td>\n",
       "      <td>0.0</td>\n",
       "    </tr>\n",
       "    <tr>\n",
       "      <th>1</th>\n",
       "      <td>3.0</td>\n",
       "      <td>2.0</td>\n",
       "      <td>0.0</td>\n",
       "      <td>1.0</td>\n",
       "      <td>36.0</td>\n",
       "      <td>1.0</td>\n",
       "      <td>1225.0</td>\n",
       "      <td>694.0</td>\n",
       "      <td>57686.0</td>\n",
       "      <td>2.0</td>\n",
       "      <td>2008.0</td>\n",
       "      <td>3.0</td>\n",
       "      <td>850000</td>\n",
       "      <td>1.0</td>\n",
       "      <td>3.0</td>\n",
       "      <td>0.0</td>\n",
       "      <td>1000</td>\n",
       "      <td>0.0</td>\n",
       "    </tr>\n",
       "    <tr>\n",
       "      <th>2</th>\n",
       "      <td>3.0</td>\n",
       "      <td>3.0</td>\n",
       "      <td>0.0</td>\n",
       "      <td>1.0</td>\n",
       "      <td>36.0</td>\n",
       "      <td>1.0</td>\n",
       "      <td>1470.0</td>\n",
       "      <td>531.0</td>\n",
       "      <td>44137.0</td>\n",
       "      <td>2.0</td>\n",
       "      <td>2008.0</td>\n",
       "      <td>3.0</td>\n",
       "      <td>780000</td>\n",
       "      <td>1.0</td>\n",
       "      <td>3.0</td>\n",
       "      <td>0.0</td>\n",
       "      <td>1000</td>\n",
       "      <td>0.0</td>\n",
       "    </tr>\n",
       "    <tr>\n",
       "      <th>3</th>\n",
       "      <td>3.0</td>\n",
       "      <td>1.0</td>\n",
       "      <td>0.0</td>\n",
       "      <td>1.0</td>\n",
       "      <td>36.0</td>\n",
       "      <td>1.0</td>\n",
       "      <td>958.0</td>\n",
       "      <td>583.0</td>\n",
       "      <td>48459.0</td>\n",
       "      <td>2.0</td>\n",
       "      <td>2008.0</td>\n",
       "      <td>3.0</td>\n",
       "      <td>425000</td>\n",
       "      <td>1.0</td>\n",
       "      <td>3.0</td>\n",
       "      <td>0.0</td>\n",
       "      <td>1000</td>\n",
       "      <td>0.0</td>\n",
       "    </tr>\n",
       "    <tr>\n",
       "      <th>4</th>\n",
       "      <td>2.0</td>\n",
       "      <td>1.0</td>\n",
       "      <td>0.0</td>\n",
       "      <td>1.0</td>\n",
       "      <td>36.0</td>\n",
       "      <td>1.0</td>\n",
       "      <td>729.0</td>\n",
       "      <td>760.0</td>\n",
       "      <td>63172.0</td>\n",
       "      <td>2.0</td>\n",
       "      <td>2008.0</td>\n",
       "      <td>3.0</td>\n",
       "      <td>488500</td>\n",
       "      <td>1.0</td>\n",
       "      <td>3.0</td>\n",
       "      <td>0.0</td>\n",
       "      <td>1000</td>\n",
       "      <td>0.0</td>\n",
       "    </tr>\n",
       "  </tbody>\n",
       "</table>\n",
       "</div>"
      ],
      "text/plain": [
       "   Beds  bathroom  PropertyType  Balcony  City  BHKType  CarpetArea  \\\n",
       "0   2.0       2.0           0.0      1.0  36.0      1.0       889.0   \n",
       "1   3.0       2.0           0.0      1.0  36.0      1.0      1225.0   \n",
       "2   3.0       3.0           0.0      1.0  36.0      1.0      1470.0   \n",
       "3   3.0       1.0           0.0      1.0  36.0      1.0       958.0   \n",
       "4   2.0       1.0           0.0      1.0  36.0      1.0       729.0   \n",
       "\n",
       "   Pricepersqft  priceinr  Status  YearBuilt  floor  buytotalprice  \\\n",
       "0         602.0   50039.0     2.0     2008.0    3.0         535000   \n",
       "1         694.0   57686.0     2.0     2008.0    3.0         850000   \n",
       "2         531.0   44137.0     2.0     2008.0    3.0         780000   \n",
       "3         583.0   48459.0     2.0     2008.0    3.0         425000   \n",
       "4         760.0   63172.0     2.0     2008.0    3.0         488500   \n",
       "\n",
       "   carparking  Typeofownership  Facing  Bookingamount  FurnishingStatus  \n",
       "0         1.0              3.0     0.0           1000               0.0  \n",
       "1         1.0              3.0     0.0           1000               0.0  \n",
       "2         1.0              3.0     0.0           1000               0.0  \n",
       "3         1.0              3.0     0.0           1000               0.0  \n",
       "4         1.0              3.0     0.0           1000               0.0  "
      ]
     },
     "execution_count": 43,
     "metadata": {},
     "output_type": "execute_result"
    }
   ],
   "source": [
    "# Ordinal Encoding for ordinal variables\n",
    "from sklearn.preprocessing import OrdinalEncoder\n",
    "oe = OrdinalEncoder()\n",
    "def ordinal_encode(df, column):\n",
    "    df[column] = oe.fit_transform(df[column])\n",
    "    return df\n",
    "\n",
    "oe_col = ['PropertyType', 'City', 'Status', 'carparking', 'Typeofownership', 'Facing', 'FurnishingStatus']\n",
    "df=ordinal_encode(df, oe_col)\n",
    "df.head()"
   ]
  },
  {
   "cell_type": "code",
   "execution_count": 63,
   "id": "90d90951",
   "metadata": {},
   "outputs": [
    {
     "ename": "KeyError",
     "evalue": "\"['buytotalprice'] not found in axis\"",
     "output_type": "error",
     "traceback": [
      "\u001b[1;31m---------------------------------------------------------------------------\u001b[0m",
      "\u001b[1;31mKeyError\u001b[0m                                  Traceback (most recent call last)",
      "\u001b[1;32m<ipython-input-63-cc433fd5e930>\u001b[0m in \u001b[0;36m<module>\u001b[1;34m\u001b[0m\n\u001b[0;32m      1\u001b[0m \u001b[1;31m# Splitting data in target and dependent feature\u001b[0m\u001b[1;33m\u001b[0m\u001b[1;33m\u001b[0m\u001b[1;33m\u001b[0m\u001b[0m\n\u001b[1;32m----> 2\u001b[1;33m \u001b[0mX\u001b[0m \u001b[1;33m=\u001b[0m \u001b[0mdf\u001b[0m\u001b[1;33m.\u001b[0m\u001b[0mdrop\u001b[0m\u001b[1;33m(\u001b[0m\u001b[1;33m[\u001b[0m\u001b[1;34m'buytotalprice'\u001b[0m\u001b[1;33m]\u001b[0m\u001b[1;33m,\u001b[0m \u001b[0maxis\u001b[0m \u001b[1;33m=\u001b[0m\u001b[1;36m1\u001b[0m\u001b[1;33m)\u001b[0m\u001b[1;33m\u001b[0m\u001b[1;33m\u001b[0m\u001b[0m\n\u001b[0m\u001b[0;32m      3\u001b[0m \u001b[0mY\u001b[0m \u001b[1;33m=\u001b[0m \u001b[0mdf\u001b[0m\u001b[1;33m[\u001b[0m\u001b[1;34m'buytotalprice'\u001b[0m\u001b[1;33m]\u001b[0m\u001b[1;33m\u001b[0m\u001b[1;33m\u001b[0m\u001b[0m\n",
      "\u001b[1;32m~\\Anaconda3\\lib\\site-packages\\pandas\\util\\_decorators.py\u001b[0m in \u001b[0;36mwrapper\u001b[1;34m(*args, **kwargs)\u001b[0m\n\u001b[0;32m    309\u001b[0m                     \u001b[0mstacklevel\u001b[0m\u001b[1;33m=\u001b[0m\u001b[0mstacklevel\u001b[0m\u001b[1;33m,\u001b[0m\u001b[1;33m\u001b[0m\u001b[1;33m\u001b[0m\u001b[0m\n\u001b[0;32m    310\u001b[0m                 )\n\u001b[1;32m--> 311\u001b[1;33m             \u001b[1;32mreturn\u001b[0m \u001b[0mfunc\u001b[0m\u001b[1;33m(\u001b[0m\u001b[1;33m*\u001b[0m\u001b[0margs\u001b[0m\u001b[1;33m,\u001b[0m \u001b[1;33m**\u001b[0m\u001b[0mkwargs\u001b[0m\u001b[1;33m)\u001b[0m\u001b[1;33m\u001b[0m\u001b[1;33m\u001b[0m\u001b[0m\n\u001b[0m\u001b[0;32m    312\u001b[0m \u001b[1;33m\u001b[0m\u001b[0m\n\u001b[0;32m    313\u001b[0m         \u001b[1;32mreturn\u001b[0m \u001b[0mwrapper\u001b[0m\u001b[1;33m\u001b[0m\u001b[1;33m\u001b[0m\u001b[0m\n",
      "\u001b[1;32m~\\Anaconda3\\lib\\site-packages\\pandas\\core\\frame.py\u001b[0m in \u001b[0;36mdrop\u001b[1;34m(self, labels, axis, index, columns, level, inplace, errors)\u001b[0m\n\u001b[0;32m   4911\u001b[0m             \u001b[0mlevel\u001b[0m\u001b[1;33m=\u001b[0m\u001b[0mlevel\u001b[0m\u001b[1;33m,\u001b[0m\u001b[1;33m\u001b[0m\u001b[1;33m\u001b[0m\u001b[0m\n\u001b[0;32m   4912\u001b[0m             \u001b[0minplace\u001b[0m\u001b[1;33m=\u001b[0m\u001b[0minplace\u001b[0m\u001b[1;33m,\u001b[0m\u001b[1;33m\u001b[0m\u001b[1;33m\u001b[0m\u001b[0m\n\u001b[1;32m-> 4913\u001b[1;33m             \u001b[0merrors\u001b[0m\u001b[1;33m=\u001b[0m\u001b[0merrors\u001b[0m\u001b[1;33m,\u001b[0m\u001b[1;33m\u001b[0m\u001b[1;33m\u001b[0m\u001b[0m\n\u001b[0m\u001b[0;32m   4914\u001b[0m         )\n\u001b[0;32m   4915\u001b[0m \u001b[1;33m\u001b[0m\u001b[0m\n",
      "\u001b[1;32m~\\Anaconda3\\lib\\site-packages\\pandas\\core\\generic.py\u001b[0m in \u001b[0;36mdrop\u001b[1;34m(self, labels, axis, index, columns, level, inplace, errors)\u001b[0m\n\u001b[0;32m   4148\u001b[0m         \u001b[1;32mfor\u001b[0m \u001b[0maxis\u001b[0m\u001b[1;33m,\u001b[0m \u001b[0mlabels\u001b[0m \u001b[1;32min\u001b[0m \u001b[0maxes\u001b[0m\u001b[1;33m.\u001b[0m\u001b[0mitems\u001b[0m\u001b[1;33m(\u001b[0m\u001b[1;33m)\u001b[0m\u001b[1;33m:\u001b[0m\u001b[1;33m\u001b[0m\u001b[1;33m\u001b[0m\u001b[0m\n\u001b[0;32m   4149\u001b[0m             \u001b[1;32mif\u001b[0m \u001b[0mlabels\u001b[0m \u001b[1;32mis\u001b[0m \u001b[1;32mnot\u001b[0m \u001b[1;32mNone\u001b[0m\u001b[1;33m:\u001b[0m\u001b[1;33m\u001b[0m\u001b[1;33m\u001b[0m\u001b[0m\n\u001b[1;32m-> 4150\u001b[1;33m                 \u001b[0mobj\u001b[0m \u001b[1;33m=\u001b[0m \u001b[0mobj\u001b[0m\u001b[1;33m.\u001b[0m\u001b[0m_drop_axis\u001b[0m\u001b[1;33m(\u001b[0m\u001b[0mlabels\u001b[0m\u001b[1;33m,\u001b[0m \u001b[0maxis\u001b[0m\u001b[1;33m,\u001b[0m \u001b[0mlevel\u001b[0m\u001b[1;33m=\u001b[0m\u001b[0mlevel\u001b[0m\u001b[1;33m,\u001b[0m \u001b[0merrors\u001b[0m\u001b[1;33m=\u001b[0m\u001b[0merrors\u001b[0m\u001b[1;33m)\u001b[0m\u001b[1;33m\u001b[0m\u001b[1;33m\u001b[0m\u001b[0m\n\u001b[0m\u001b[0;32m   4151\u001b[0m \u001b[1;33m\u001b[0m\u001b[0m\n\u001b[0;32m   4152\u001b[0m         \u001b[1;32mif\u001b[0m \u001b[0minplace\u001b[0m\u001b[1;33m:\u001b[0m\u001b[1;33m\u001b[0m\u001b[1;33m\u001b[0m\u001b[0m\n",
      "\u001b[1;32m~\\Anaconda3\\lib\\site-packages\\pandas\\core\\generic.py\u001b[0m in \u001b[0;36m_drop_axis\u001b[1;34m(self, labels, axis, level, errors)\u001b[0m\n\u001b[0;32m   4183\u001b[0m                 \u001b[0mnew_axis\u001b[0m \u001b[1;33m=\u001b[0m \u001b[0maxis\u001b[0m\u001b[1;33m.\u001b[0m\u001b[0mdrop\u001b[0m\u001b[1;33m(\u001b[0m\u001b[0mlabels\u001b[0m\u001b[1;33m,\u001b[0m \u001b[0mlevel\u001b[0m\u001b[1;33m=\u001b[0m\u001b[0mlevel\u001b[0m\u001b[1;33m,\u001b[0m \u001b[0merrors\u001b[0m\u001b[1;33m=\u001b[0m\u001b[0merrors\u001b[0m\u001b[1;33m)\u001b[0m\u001b[1;33m\u001b[0m\u001b[1;33m\u001b[0m\u001b[0m\n\u001b[0;32m   4184\u001b[0m             \u001b[1;32melse\u001b[0m\u001b[1;33m:\u001b[0m\u001b[1;33m\u001b[0m\u001b[1;33m\u001b[0m\u001b[0m\n\u001b[1;32m-> 4185\u001b[1;33m                 \u001b[0mnew_axis\u001b[0m \u001b[1;33m=\u001b[0m \u001b[0maxis\u001b[0m\u001b[1;33m.\u001b[0m\u001b[0mdrop\u001b[0m\u001b[1;33m(\u001b[0m\u001b[0mlabels\u001b[0m\u001b[1;33m,\u001b[0m \u001b[0merrors\u001b[0m\u001b[1;33m=\u001b[0m\u001b[0merrors\u001b[0m\u001b[1;33m)\u001b[0m\u001b[1;33m\u001b[0m\u001b[1;33m\u001b[0m\u001b[0m\n\u001b[0m\u001b[0;32m   4186\u001b[0m             \u001b[0mresult\u001b[0m \u001b[1;33m=\u001b[0m \u001b[0mself\u001b[0m\u001b[1;33m.\u001b[0m\u001b[0mreindex\u001b[0m\u001b[1;33m(\u001b[0m\u001b[1;33m**\u001b[0m\u001b[1;33m{\u001b[0m\u001b[0maxis_name\u001b[0m\u001b[1;33m:\u001b[0m \u001b[0mnew_axis\u001b[0m\u001b[1;33m}\u001b[0m\u001b[1;33m)\u001b[0m\u001b[1;33m\u001b[0m\u001b[1;33m\u001b[0m\u001b[0m\n\u001b[0;32m   4187\u001b[0m \u001b[1;33m\u001b[0m\u001b[0m\n",
      "\u001b[1;32m~\\Anaconda3\\lib\\site-packages\\pandas\\core\\indexes\\base.py\u001b[0m in \u001b[0;36mdrop\u001b[1;34m(self, labels, errors)\u001b[0m\n\u001b[0;32m   6015\u001b[0m         \u001b[1;32mif\u001b[0m \u001b[0mmask\u001b[0m\u001b[1;33m.\u001b[0m\u001b[0many\u001b[0m\u001b[1;33m(\u001b[0m\u001b[1;33m)\u001b[0m\u001b[1;33m:\u001b[0m\u001b[1;33m\u001b[0m\u001b[1;33m\u001b[0m\u001b[0m\n\u001b[0;32m   6016\u001b[0m             \u001b[1;32mif\u001b[0m \u001b[0merrors\u001b[0m \u001b[1;33m!=\u001b[0m \u001b[1;34m\"ignore\"\u001b[0m\u001b[1;33m:\u001b[0m\u001b[1;33m\u001b[0m\u001b[1;33m\u001b[0m\u001b[0m\n\u001b[1;32m-> 6017\u001b[1;33m                 \u001b[1;32mraise\u001b[0m \u001b[0mKeyError\u001b[0m\u001b[1;33m(\u001b[0m\u001b[1;34mf\"{labels[mask]} not found in axis\"\u001b[0m\u001b[1;33m)\u001b[0m\u001b[1;33m\u001b[0m\u001b[1;33m\u001b[0m\u001b[0m\n\u001b[0m\u001b[0;32m   6018\u001b[0m             \u001b[0mindexer\u001b[0m \u001b[1;33m=\u001b[0m \u001b[0mindexer\u001b[0m\u001b[1;33m[\u001b[0m\u001b[1;33m~\u001b[0m\u001b[0mmask\u001b[0m\u001b[1;33m]\u001b[0m\u001b[1;33m\u001b[0m\u001b[1;33m\u001b[0m\u001b[0m\n\u001b[0;32m   6019\u001b[0m         \u001b[1;32mreturn\u001b[0m \u001b[0mself\u001b[0m\u001b[1;33m.\u001b[0m\u001b[0mdelete\u001b[0m\u001b[1;33m(\u001b[0m\u001b[0mindexer\u001b[0m\u001b[1;33m)\u001b[0m\u001b[1;33m\u001b[0m\u001b[1;33m\u001b[0m\u001b[0m\n",
      "\u001b[1;31mKeyError\u001b[0m: \"['buytotalprice'] not found in axis\""
     ]
    }
   ],
   "source": [
    "# Splitting data in target and dependent feature\n",
    "X = df.drop(['buytotalprice'], axis =1)\n",
    "Y = df['buytotalprice']"
   ]
  },
  {
   "cell_type": "code",
   "execution_count": 64,
   "id": "a54b93e0",
   "metadata": {},
   "outputs": [
    {
     "data": {
      "text/plain": [
       "(3163, 16)"
      ]
     },
     "execution_count": 64,
     "metadata": {},
     "output_type": "execute_result"
    }
   ],
   "source": [
    "X.shape"
   ]
  },
  {
   "cell_type": "code",
   "execution_count": 65,
   "id": "75d7d0ca",
   "metadata": {},
   "outputs": [
    {
     "data": {
      "text/plain": [
       "(3163,)"
      ]
     },
     "execution_count": 65,
     "metadata": {},
     "output_type": "execute_result"
    }
   ],
   "source": [
    "Y.shape"
   ]
  },
  {
   "cell_type": "markdown",
   "id": "c90298a1",
   "metadata": {},
   "source": [
    "# Transforming skew data using power transform"
   ]
  },
  {
   "cell_type": "code",
   "execution_count": 60,
   "id": "9f6c9f7b",
   "metadata": {},
   "outputs": [
    {
     "data": {
      "text/plain": [
       "Beds                0.042512\n",
       "bathroom           -0.005169\n",
       "PropertyType       -0.874884\n",
       "Balcony            -2.283701\n",
       "City               -0.315337\n",
       "BHKType            -0.033583\n",
       "CarpetArea          0.286207\n",
       "Pricepersqft        0.008933\n",
       "Status             -0.127943\n",
       "YearBuilt           1.314707\n",
       "floor               0.014586\n",
       "carparking         -0.238914\n",
       "Typeofownership    -0.014974\n",
       "Facing              0.141598\n",
       "Bookingamount      -0.232299\n",
       "FurnishingStatus    0.039004\n",
       "dtype: float64"
      ]
     },
     "execution_count": 60,
     "metadata": {},
     "output_type": "execute_result"
    }
   ],
   "source": [
    "from sklearn.preprocessing import power_transform\n",
    "df = power_transform(X)\n",
    "df = pd.DataFrame(df, columns=X.columns)\n",
    "df.skew()"
   ]
  },
  {
   "cell_type": "markdown",
   "id": "4f916dd9",
   "metadata": {},
   "source": [
    "# Model selection/predictions"
   ]
  },
  {
   "cell_type": "markdown",
   "id": "bc0a9b59",
   "metadata": {},
   "source": [
    "# Linear Regression"
   ]
  },
  {
   "cell_type": "code",
   "execution_count": 66,
   "id": "cd1f5591",
   "metadata": {},
   "outputs": [],
   "source": [
    "from sklearn.model_selection import train_test_split\n",
    "X_train,X_test,Y_train,Y_test=train_test_split(X,Y,test_size=0.2,random_state=42)"
   ]
  },
  {
   "cell_type": "markdown",
   "id": "473aa080",
   "metadata": {},
   "source": [
    "- Creating and Training the Model"
   ]
  },
  {
   "cell_type": "code",
   "execution_count": 67,
   "id": "bf0ee6e0",
   "metadata": {},
   "outputs": [],
   "source": [
    "from sklearn.linear_model import LinearRegression\n",
    "lr=LinearRegression()\n",
    "lr.fit(X_train,Y_train)\n",
    "pred=lr.predict(X_test)"
   ]
  },
  {
   "cell_type": "code",
   "execution_count": 68,
   "id": "fd008552",
   "metadata": {},
   "outputs": [
    {
     "name": "stdout",
     "output_type": "stream",
     "text": [
      "MAE: 467293.5435624205\n",
      "MSE: 2218800014273.7334\n",
      "RMSE: 1489563.6993004808\n"
     ]
    }
   ],
   "source": [
    "from sklearn import metrics\n",
    "print('MAE:', metrics.mean_absolute_error(Y_test, pred))\n",
    "print('MSE:', metrics.mean_squared_error(Y_test, pred))\n",
    "print('RMSE:', np.sqrt(metrics.mean_squared_error(Y_test, pred)))"
   ]
  },
  {
   "cell_type": "code",
   "execution_count": null,
   "id": "cb817b4b",
   "metadata": {},
   "outputs": [],
   "source": [
    "The RMSE is high so we can say that we do not have a good model, but lets check to be more sure.\n",
    "Lets plot the y_test vs the predictions"
   ]
  },
  {
   "cell_type": "markdown",
   "id": "776f37a9",
   "metadata": {},
   "source": [
    "# Decision Tree Regression"
   ]
  },
  {
   "cell_type": "code",
   "execution_count": 72,
   "id": "b41518e4",
   "metadata": {},
   "outputs": [],
   "source": [
    "from sklearn.tree import DecisionTreeRegressor\n",
    "dtr=DecisionTreeRegressor()\n",
    "dtr.fit(X_train,Y_train)\n",
    "pred=dtr.predict(X_test)"
   ]
  },
  {
   "cell_type": "code",
   "execution_count": 73,
   "id": "e0452a80",
   "metadata": {},
   "outputs": [
    {
     "data": {
      "text/plain": [
       "Text(0, 0.5, 'Predicted Y')"
      ]
     },
     "execution_count": 73,
     "metadata": {},
     "output_type": "execute_result"
    },
    {
     "data": {
      "image/png": "[encoded data removed]",
      "text/plain": [
       "<Figure size 432x288 with 1 Axes>"
      ]
     },
     "metadata": {},
     "output_type": "display_data"
    }
   ],
   "source": [
    "plt.scatter(x=Y_test,y=pred)\n",
    "plt.xlabel('Y Test')\n",
    "plt.ylabel('Predicted Y')"
   ]
  },
  {
   "cell_type": "code",
   "execution_count": 75,
   "id": "b91d5e64",
   "metadata": {},
   "outputs": [
    {
     "name": "stdout",
     "output_type": "stream",
     "text": [
      "MAE: 660709.9668246446\n",
      "MSE: 4843787882618.263\n",
      "RMSE: 2200860.7140430906\n"
     ]
    }
   ],
   "source": [
    "print('MAE:', metrics.mean_absolute_error(Y_test, pred))\n",
    "print('MSE:', metrics.mean_squared_error(Y_test, pred))\n",
    "print('RMSE:', np.sqrt(metrics.mean_squared_error(Y_test, pred)))"
   ]
  },
  {
   "cell_type": "markdown",
   "id": "5d888c72",
   "metadata": {},
   "source": [
    "# Random Forest Regressor"
   ]
  },
  {
   "cell_type": "code",
   "execution_count": 76,
   "id": "86022986",
   "metadata": {},
   "outputs": [],
   "source": [
    "from sklearn.ensemble import RandomForestRegressor\n",
    "rdr = RandomForestRegressor()\n",
    "rdr.fit(X_train,Y_train)\n",
    "pred=rdr.predict(X_test)"
   ]
  },
  {
   "cell_type": "code",
   "execution_count": 77,
   "id": "9f6d25fa",
   "metadata": {},
   "outputs": [
    {
     "name": "stdout",
     "output_type": "stream",
     "text": [
      "MAE: 481844.4531234485\n",
      "MSE: 2288833031590.35\n",
      "RMSE: 1512888.9686921344\n"
     ]
    }
   ],
   "source": [
    "print('MAE:', metrics.mean_absolute_error(Y_test, pred))\n",
    "print('MSE:', metrics.mean_squared_error(Y_test, pred))\n",
    "print('RMSE:', np.sqrt(metrics.mean_squared_error(Y_test, pred)))"
   ]
  },
  {
   "cell_type": "code",
   "execution_count": 79,
   "id": "30765dd0",
   "metadata": {},
   "outputs": [
    {
     "data": {
      "text/plain": [
       "<AxesSubplot:xlabel='buytotalprice', ylabel='Density'>"
      ]
     },
     "execution_count": 79,
     "metadata": {},
     "output_type": "execute_result"
    },
    {
     "data": {
      "image/png": "[encoded data removed]",
      "text/plain": [
       "<Figure size 432x288 with 1 Axes>"
      ]
     },
     "metadata": {},
     "output_type": "display_data"
    }
   ],
   "source": [
    "sns.distplot((Y_test-pred),bins=50)"
   ]
  },
  {
   "cell_type": "markdown",
   "id": "29e6c8d6",
   "metadata": {},
   "source": [
    "# Random Forest Regressor performs best than linear regression and Decision Tree Regression"
   ]
  },
  {
   "cell_type": "code",
   "execution_count": 80,
   "id": "023217ef",
   "metadata": {},
   "outputs": [
    {
     "data": {
      "text/html": [
       "<div>\n",
       "<style scoped>\n",
       "    .dataframe tbody tr th:only-of-type {\n",
       "        vertical-align: middle;\n",
       "    }\n",
       "\n",
       "    .dataframe tbody tr th {\n",
       "        vertical-align: top;\n",
       "    }\n",
       "\n",
       "    .dataframe thead th {\n",
       "        text-align: right;\n",
       "    }\n",
       "</style>\n",
       "<table border=\"1\" class=\"dataframe\">\n",
       "  <thead>\n",
       "    <tr style=\"text-align: right;\">\n",
       "      <th></th>\n",
       "      <th>Y Test</th>\n",
       "      <th>Pred</th>\n",
       "    </tr>\n",
       "  </thead>\n",
       "  <tbody>\n",
       "    <tr>\n",
       "      <th>2755</th>\n",
       "      <td>1490000</td>\n",
       "      <td>991426.58</td>\n",
       "    </tr>\n",
       "    <tr>\n",
       "      <th>346</th>\n",
       "      <td>329000</td>\n",
       "      <td>388204.97</td>\n",
       "    </tr>\n",
       "    <tr>\n",
       "      <th>170</th>\n",
       "      <td>939000</td>\n",
       "      <td>4871149.25</td>\n",
       "    </tr>\n",
       "    <tr>\n",
       "      <th>354</th>\n",
       "      <td>419900</td>\n",
       "      <td>510202.61</td>\n",
       "    </tr>\n",
       "    <tr>\n",
       "      <th>1556</th>\n",
       "      <td>299900</td>\n",
       "      <td>296151.38</td>\n",
       "    </tr>\n",
       "  </tbody>\n",
       "</table>\n",
       "</div>"
      ],
      "text/plain": [
       "       Y Test        Pred\n",
       "2755  1490000   991426.58\n",
       "346    329000   388204.97\n",
       "170    939000  4871149.25\n",
       "354    419900   510202.61\n",
       "1556   299900   296151.38"
      ]
     },
     "execution_count": 80,
     "metadata": {},
     "output_type": "execute_result"
    },
    {
     "data": {
      "image/png": "[encoded data removed]",
      "text/plain": [
       "<Figure size 360x360 with 1 Axes>"
      ]
     },
     "metadata": {},
     "output_type": "display_data"
    }
   ],
   "source": [
    "data = pd.DataFrame({'Y Test':Y_test , 'Pred':pred},columns=['Y Test','Pred'])\n",
    "sns.lmplot(x='Y Test',y='Pred',data=data,palette='rainbow')\n",
    "data.head()"
   ]
  },
  {
   "cell_type": "markdown",
   "id": "0f7db2a0",
   "metadata": {},
   "source": [
    "##### Random forest proves to be the most effective in predicting buytotalprice data compared to the Decision Tree Regressor and Linear Regression models."
   ]
  },
  {
   "cell_type": "markdown",
   "id": "8aaa0281",
   "metadata": {},
   "source": [
    "# Prediction of carpet area"
   ]
  },
  {
   "cell_type": "markdown",
   "id": "b10bc977",
   "metadata": {},
   "source": [
    "- carpet area is not related to facing,city,status,year built,floor,car parking, type of ownership,facing, booking amount,status"
   ]
  },
  {
   "cell_type": "code",
   "execution_count": 89,
   "id": "fcb0ddf5",
   "metadata": {},
   "outputs": [
    {
     "name": "stdout",
     "output_type": "stream",
     "text": [
      "<class 'pandas.core.frame.DataFrame'>\n",
      "RangeIndex: 3163 entries, 0 to 3162\n",
      "Data columns (total 6 columns):\n",
      " #   Column        Non-Null Count  Dtype  \n",
      "---  ------        --------------  -----  \n",
      " 0   Beds          3163 non-null   float64\n",
      " 1   bathroom      3163 non-null   float64\n",
      " 2   Balcony       3163 non-null   float64\n",
      " 3   BHKType       3163 non-null   float64\n",
      " 4   CarpetArea    3163 non-null   float64\n",
      " 5   Pricepersqft  3163 non-null   float64\n",
      "dtypes: float64(6)\n",
      "memory usage: 148.4 KB\n"
     ]
    }
   ],
   "source": [
    "df.info()"
   ]
  },
  {
   "cell_type": "code",
   "execution_count": 88,
   "id": "bbb6c88f",
   "metadata": {},
   "outputs": [
    {
     "ename": "KeyError",
     "evalue": "\"['PropertyType'] not found in axis\"",
     "output_type": "error",
     "traceback": [
      "\u001b[1;31m---------------------------------------------------------------------------\u001b[0m",
      "\u001b[1;31mKeyError\u001b[0m                                  Traceback (most recent call last)",
      "\u001b[1;32m<ipython-input-88-f7e8c9e27fac>\u001b[0m in \u001b[0;36m<module>\u001b[1;34m\u001b[0m\n\u001b[0;32m      1\u001b[0m \u001b[1;31m# Droping unnecessary columns\u001b[0m\u001b[1;33m\u001b[0m\u001b[1;33m\u001b[0m\u001b[1;33m\u001b[0m\u001b[0m\n\u001b[1;32m----> 2\u001b[1;33m \u001b[0mdf\u001b[0m\u001b[1;33m.\u001b[0m\u001b[0mdrop\u001b[0m\u001b[1;33m(\u001b[0m\u001b[1;33m[\u001b[0m\u001b[1;34m'PropertyType'\u001b[0m\u001b[1;33m]\u001b[0m\u001b[1;33m,\u001b[0m \u001b[0maxis\u001b[0m\u001b[1;33m=\u001b[0m\u001b[1;36m1\u001b[0m\u001b[1;33m,\u001b[0m \u001b[0minplace\u001b[0m\u001b[1;33m=\u001b[0m\u001b[1;32mTrue\u001b[0m\u001b[1;33m)\u001b[0m\u001b[1;33m\u001b[0m\u001b[1;33m\u001b[0m\u001b[0m\n\u001b[0m",
      "\u001b[1;32m~\\Anaconda3\\lib\\site-packages\\pandas\\util\\_decorators.py\u001b[0m in \u001b[0;36mwrapper\u001b[1;34m(*args, **kwargs)\u001b[0m\n\u001b[0;32m    309\u001b[0m                     \u001b[0mstacklevel\u001b[0m\u001b[1;33m=\u001b[0m\u001b[0mstacklevel\u001b[0m\u001b[1;33m,\u001b[0m\u001b[1;33m\u001b[0m\u001b[1;33m\u001b[0m\u001b[0m\n\u001b[0;32m    310\u001b[0m                 )\n\u001b[1;32m--> 311\u001b[1;33m             \u001b[1;32mreturn\u001b[0m \u001b[0mfunc\u001b[0m\u001b[1;33m(\u001b[0m\u001b[1;33m*\u001b[0m\u001b[0margs\u001b[0m\u001b[1;33m,\u001b[0m \u001b[1;33m**\u001b[0m\u001b[0mkwargs\u001b[0m\u001b[1;33m)\u001b[0m\u001b[1;33m\u001b[0m\u001b[1;33m\u001b[0m\u001b[0m\n\u001b[0m\u001b[0;32m    312\u001b[0m \u001b[1;33m\u001b[0m\u001b[0m\n\u001b[0;32m    313\u001b[0m         \u001b[1;32mreturn\u001b[0m \u001b[0mwrapper\u001b[0m\u001b[1;33m\u001b[0m\u001b[1;33m\u001b[0m\u001b[0m\n",
      "\u001b[1;32m~\\Anaconda3\\lib\\site-packages\\pandas\\core\\frame.py\u001b[0m in \u001b[0;36mdrop\u001b[1;34m(self, labels, axis, index, columns, level, inplace, errors)\u001b[0m\n\u001b[0;32m   4911\u001b[0m             \u001b[0mlevel\u001b[0m\u001b[1;33m=\u001b[0m\u001b[0mlevel\u001b[0m\u001b[1;33m,\u001b[0m\u001b[1;33m\u001b[0m\u001b[1;33m\u001b[0m\u001b[0m\n\u001b[0;32m   4912\u001b[0m             \u001b[0minplace\u001b[0m\u001b[1;33m=\u001b[0m\u001b[0minplace\u001b[0m\u001b[1;33m,\u001b[0m\u001b[1;33m\u001b[0m\u001b[1;33m\u001b[0m\u001b[0m\n\u001b[1;32m-> 4913\u001b[1;33m             \u001b[0merrors\u001b[0m\u001b[1;33m=\u001b[0m\u001b[0merrors\u001b[0m\u001b[1;33m,\u001b[0m\u001b[1;33m\u001b[0m\u001b[1;33m\u001b[0m\u001b[0m\n\u001b[0m\u001b[0;32m   4914\u001b[0m         )\n\u001b[0;32m   4915\u001b[0m \u001b[1;33m\u001b[0m\u001b[0m\n",
      "\u001b[1;32m~\\Anaconda3\\lib\\site-packages\\pandas\\core\\generic.py\u001b[0m in \u001b[0;36mdrop\u001b[1;34m(self, labels, axis, index, columns, level, inplace, errors)\u001b[0m\n\u001b[0;32m   4148\u001b[0m         \u001b[1;32mfor\u001b[0m \u001b[0maxis\u001b[0m\u001b[1;33m,\u001b[0m \u001b[0mlabels\u001b[0m \u001b[1;32min\u001b[0m \u001b[0maxes\u001b[0m\u001b[1;33m.\u001b[0m\u001b[0mitems\u001b[0m\u001b[1;33m(\u001b[0m\u001b[1;33m)\u001b[0m\u001b[1;33m:\u001b[0m\u001b[1;33m\u001b[0m\u001b[1;33m\u001b[0m\u001b[0m\n\u001b[0;32m   4149\u001b[0m             \u001b[1;32mif\u001b[0m \u001b[0mlabels\u001b[0m \u001b[1;32mis\u001b[0m \u001b[1;32mnot\u001b[0m \u001b[1;32mNone\u001b[0m\u001b[1;33m:\u001b[0m\u001b[1;33m\u001b[0m\u001b[1;33m\u001b[0m\u001b[0m\n\u001b[1;32m-> 4150\u001b[1;33m                 \u001b[0mobj\u001b[0m \u001b[1;33m=\u001b[0m \u001b[0mobj\u001b[0m\u001b[1;33m.\u001b[0m\u001b[0m_drop_axis\u001b[0m\u001b[1;33m(\u001b[0m\u001b[0mlabels\u001b[0m\u001b[1;33m,\u001b[0m \u001b[0maxis\u001b[0m\u001b[1;33m,\u001b[0m \u001b[0mlevel\u001b[0m\u001b[1;33m=\u001b[0m\u001b[0mlevel\u001b[0m\u001b[1;33m,\u001b[0m \u001b[0merrors\u001b[0m\u001b[1;33m=\u001b[0m\u001b[0merrors\u001b[0m\u001b[1;33m)\u001b[0m\u001b[1;33m\u001b[0m\u001b[1;33m\u001b[0m\u001b[0m\n\u001b[0m\u001b[0;32m   4151\u001b[0m \u001b[1;33m\u001b[0m\u001b[0m\n\u001b[0;32m   4152\u001b[0m         \u001b[1;32mif\u001b[0m \u001b[0minplace\u001b[0m\u001b[1;33m:\u001b[0m\u001b[1;33m\u001b[0m\u001b[1;33m\u001b[0m\u001b[0m\n",
      "\u001b[1;32m~\\Anaconda3\\lib\\site-packages\\pandas\\core\\generic.py\u001b[0m in \u001b[0;36m_drop_axis\u001b[1;34m(self, labels, axis, level, errors)\u001b[0m\n\u001b[0;32m   4183\u001b[0m                 \u001b[0mnew_axis\u001b[0m \u001b[1;33m=\u001b[0m \u001b[0maxis\u001b[0m\u001b[1;33m.\u001b[0m\u001b[0mdrop\u001b[0m\u001b[1;33m(\u001b[0m\u001b[0mlabels\u001b[0m\u001b[1;33m,\u001b[0m \u001b[0mlevel\u001b[0m\u001b[1;33m=\u001b[0m\u001b[0mlevel\u001b[0m\u001b[1;33m,\u001b[0m \u001b[0merrors\u001b[0m\u001b[1;33m=\u001b[0m\u001b[0merrors\u001b[0m\u001b[1;33m)\u001b[0m\u001b[1;33m\u001b[0m\u001b[1;33m\u001b[0m\u001b[0m\n\u001b[0;32m   4184\u001b[0m             \u001b[1;32melse\u001b[0m\u001b[1;33m:\u001b[0m\u001b[1;33m\u001b[0m\u001b[1;33m\u001b[0m\u001b[0m\n\u001b[1;32m-> 4185\u001b[1;33m                 \u001b[0mnew_axis\u001b[0m \u001b[1;33m=\u001b[0m \u001b[0maxis\u001b[0m\u001b[1;33m.\u001b[0m\u001b[0mdrop\u001b[0m\u001b[1;33m(\u001b[0m\u001b[0mlabels\u001b[0m\u001b[1;33m,\u001b[0m \u001b[0merrors\u001b[0m\u001b[1;33m=\u001b[0m\u001b[0merrors\u001b[0m\u001b[1;33m)\u001b[0m\u001b[1;33m\u001b[0m\u001b[1;33m\u001b[0m\u001b[0m\n\u001b[0m\u001b[0;32m   4186\u001b[0m             \u001b[0mresult\u001b[0m \u001b[1;33m=\u001b[0m \u001b[0mself\u001b[0m\u001b[1;33m.\u001b[0m\u001b[0mreindex\u001b[0m\u001b[1;33m(\u001b[0m\u001b[1;33m**\u001b[0m\u001b[1;33m{\u001b[0m\u001b[0maxis_name\u001b[0m\u001b[1;33m:\u001b[0m \u001b[0mnew_axis\u001b[0m\u001b[1;33m}\u001b[0m\u001b[1;33m)\u001b[0m\u001b[1;33m\u001b[0m\u001b[1;33m\u001b[0m\u001b[0m\n\u001b[0;32m   4187\u001b[0m \u001b[1;33m\u001b[0m\u001b[0m\n",
      "\u001b[1;32m~\\Anaconda3\\lib\\site-packages\\pandas\\core\\indexes\\base.py\u001b[0m in \u001b[0;36mdrop\u001b[1;34m(self, labels, errors)\u001b[0m\n\u001b[0;32m   6015\u001b[0m         \u001b[1;32mif\u001b[0m \u001b[0mmask\u001b[0m\u001b[1;33m.\u001b[0m\u001b[0many\u001b[0m\u001b[1;33m(\u001b[0m\u001b[1;33m)\u001b[0m\u001b[1;33m:\u001b[0m\u001b[1;33m\u001b[0m\u001b[1;33m\u001b[0m\u001b[0m\n\u001b[0;32m   6016\u001b[0m             \u001b[1;32mif\u001b[0m \u001b[0merrors\u001b[0m \u001b[1;33m!=\u001b[0m \u001b[1;34m\"ignore\"\u001b[0m\u001b[1;33m:\u001b[0m\u001b[1;33m\u001b[0m\u001b[1;33m\u001b[0m\u001b[0m\n\u001b[1;32m-> 6017\u001b[1;33m                 \u001b[1;32mraise\u001b[0m \u001b[0mKeyError\u001b[0m\u001b[1;33m(\u001b[0m\u001b[1;34mf\"{labels[mask]} not found in axis\"\u001b[0m\u001b[1;33m)\u001b[0m\u001b[1;33m\u001b[0m\u001b[1;33m\u001b[0m\u001b[0m\n\u001b[0m\u001b[0;32m   6018\u001b[0m             \u001b[0mindexer\u001b[0m \u001b[1;33m=\u001b[0m \u001b[0mindexer\u001b[0m\u001b[1;33m[\u001b[0m\u001b[1;33m~\u001b[0m\u001b[0mmask\u001b[0m\u001b[1;33m]\u001b[0m\u001b[1;33m\u001b[0m\u001b[1;33m\u001b[0m\u001b[0m\n\u001b[0;32m   6019\u001b[0m         \u001b[1;32mreturn\u001b[0m \u001b[0mself\u001b[0m\u001b[1;33m.\u001b[0m\u001b[0mdelete\u001b[0m\u001b[1;33m(\u001b[0m\u001b[0mindexer\u001b[0m\u001b[1;33m)\u001b[0m\u001b[1;33m\u001b[0m\u001b[1;33m\u001b[0m\u001b[0m\n",
      "\u001b[1;31mKeyError\u001b[0m: \"['PropertyType'] not found in axis\""
     ]
    }
   ],
   "source": [
    "# Droping unnecessary columns\n",
    "df4=df.drop(['PropertyType','City','Status','YearBuilt','floor','carparking','Typeofownership','Facing','Bookingamount','FurnishingStatus'], axis=1, inplace=True)"
   ]
  },
  {
   "cell_type": "markdown",
   "id": "51d839e3",
   "metadata": {},
   "source": [
    "# Regression model for identification of carpet area"
   ]
  },
  {
   "cell_type": "code",
   "execution_count": 90,
   "id": "6c0661ff",
   "metadata": {},
   "outputs": [],
   "source": [
    "from sklearn.model_selection import train_test_split\n",
    "from sklearn.linear_model import LogisticRegression\n",
    "from sklearn.naive_bayes import GaussianNB\n",
    "from sklearn.svm import SVC\n",
    "from sklearn.tree import DecisionTreeClassifier\n",
    "from sklearn.neighbors import KNeighborsClassifier\n",
    "from sklearn.metrics import accuracy_score, confusion_matrix,classification_report,f1_score"
   ]
  },
  {
   "cell_type": "code",
   "execution_count": 93,
   "id": "700a07b4",
   "metadata": {},
   "outputs": [],
   "source": [
    "# Splitting data in target and dependent feature\n",
    "X = df.drop(['CarpetArea'], axis =1)\n",
    "y = df['CarpetArea']"
   ]
  },
  {
   "cell_type": "code",
   "execution_count": 94,
   "id": "7d5f757b",
   "metadata": {},
   "outputs": [],
   "source": [
    "from sklearn.model_selection import train_test_split\n",
    "X_train,X_test,y_train,y_test=train_test_split(X,y,test_size=0.2,random_state=42)"
   ]
  },
  {
   "cell_type": "markdown",
   "id": "99897db4",
   "metadata": {},
   "source": [
    "- Creating and Training the Model"
   ]
  },
  {
   "cell_type": "code",
   "execution_count": 95,
   "id": "e7dd51f4",
   "metadata": {},
   "outputs": [],
   "source": [
    "from sklearn.linear_model import LinearRegression\n",
    "lr=LinearRegression()\n",
    "lr.fit(X_train,y_train)\n",
    "pred=lr.predict(X_test)"
   ]
  },
  {
   "cell_type": "code",
   "execution_count": 96,
   "id": "f8da4f06",
   "metadata": {},
   "outputs": [
    {
     "name": "stdout",
     "output_type": "stream",
     "text": [
      "MAE: 0.6875836272527536\n",
      "MSE: 0.8792505953548218\n",
      "RMSE: 0.9376836328713548\n"
     ]
    }
   ],
   "source": [
    "from sklearn import metrics\n",
    "print('MAE:', metrics.mean_absolute_error(y_test, pred))\n",
    "print('MSE:', metrics.mean_squared_error(y_test, pred))\n",
    "print('RMSE:', np.sqrt(metrics.mean_squared_error(y_test, pred)))"
   ]
  },
  {
   "cell_type": "markdown",
   "id": "4c684ba2",
   "metadata": {},
   "source": [
    "# Decision Tree Regression"
   ]
  },
  {
   "cell_type": "code",
   "execution_count": 97,
   "id": "0d3842fb",
   "metadata": {},
   "outputs": [],
   "source": [
    "from sklearn.tree import DecisionTreeRegressor\n",
    "dtr=DecisionTreeRegressor()\n",
    "dtr.fit(X_train,y_train)\n",
    "pred=dtr.predict(X_test)"
   ]
  },
  {
   "cell_type": "code",
   "execution_count": 98,
   "id": "00355ec3",
   "metadata": {},
   "outputs": [
    {
     "name": "stdout",
     "output_type": "stream",
     "text": [
      "MAE: 0.9098457272730799\n",
      "MSE: 1.5816402014298636\n",
      "RMSE: 1.2576327768589142\n"
     ]
    }
   ],
   "source": [
    "print('MAE:', metrics.mean_absolute_error(y_test, pred))\n",
    "print('MSE:', metrics.mean_squared_error(y_test, pred))\n",
    "print('RMSE:', np.sqrt(metrics.mean_squared_error(y_test, pred)))"
   ]
  },
  {
   "cell_type": "markdown",
   "id": "e6206bfb",
   "metadata": {},
   "source": [
    "# Random Forest Regressor"
   ]
  },
  {
   "cell_type": "code",
   "execution_count": 99,
   "id": "9af03fe2",
   "metadata": {},
   "outputs": [],
   "source": [
    "from sklearn.ensemble import RandomForestRegressor\n",
    "rdr = RandomForestRegressor()\n",
    "rdr.fit(X_train,y_train)\n",
    "pred=rdr.predict(X_test)"
   ]
  },
  {
   "cell_type": "code",
   "execution_count": 100,
   "id": "7552e329",
   "metadata": {},
   "outputs": [
    {
     "name": "stdout",
     "output_type": "stream",
     "text": [
      "MAE: 0.7352796076547572\n",
      "MSE: 1.015031228208268\n",
      "RMSE: 1.0074875821608265\n"
     ]
    }
   ],
   "source": [
    "print('MAE:', metrics.mean_absolute_error(y_test, pred))\n",
    "print('MSE:', metrics.mean_squared_error(y_test, pred))\n",
    "print('RMSE:', np.sqrt(metrics.mean_squared_error(y_test, pred)))"
   ]
  },
  {
   "cell_type": "markdown",
   "id": "43d54b49",
   "metadata": {},
   "source": [
    "### Linear regression performs best in finding carpet area"
   ]
  },
  {
   "cell_type": "code",
   "execution_count": 101,
   "id": "14072ed2",
   "metadata": {},
   "outputs": [
    {
     "data": {
      "text/html": [
       "<div>\n",
       "<style scoped>\n",
       "    .dataframe tbody tr th:only-of-type {\n",
       "        vertical-align: middle;\n",
       "    }\n",
       "\n",
       "    .dataframe tbody tr th {\n",
       "        vertical-align: top;\n",
       "    }\n",
       "\n",
       "    .dataframe thead th {\n",
       "        text-align: right;\n",
       "    }\n",
       "</style>\n",
       "<table border=\"1\" class=\"dataframe\">\n",
       "  <thead>\n",
       "    <tr style=\"text-align: right;\">\n",
       "      <th></th>\n",
       "      <th>Y Test</th>\n",
       "      <th>Pred</th>\n",
       "    </tr>\n",
       "  </thead>\n",
       "  <tbody>\n",
       "    <tr>\n",
       "      <th>2755</th>\n",
       "      <td>-0.516509</td>\n",
       "      <td>0.183342</td>\n",
       "    </tr>\n",
       "    <tr>\n",
       "      <th>346</th>\n",
       "      <td>-0.730733</td>\n",
       "      <td>-0.128836</td>\n",
       "    </tr>\n",
       "    <tr>\n",
       "      <th>170</th>\n",
       "      <td>3.029227</td>\n",
       "      <td>0.118650</td>\n",
       "    </tr>\n",
       "    <tr>\n",
       "      <th>354</th>\n",
       "      <td>-1.108118</td>\n",
       "      <td>-0.608322</td>\n",
       "    </tr>\n",
       "    <tr>\n",
       "      <th>1556</th>\n",
       "      <td>-0.695929</td>\n",
       "      <td>-0.229865</td>\n",
       "    </tr>\n",
       "  </tbody>\n",
       "</table>\n",
       "</div>"
      ],
      "text/plain": [
       "        Y Test      Pred\n",
       "2755 -0.516509  0.183342\n",
       "346  -0.730733 -0.128836\n",
       "170   3.029227  0.118650\n",
       "354  -1.108118 -0.608322\n",
       "1556 -0.695929 -0.229865"
      ]
     },
     "execution_count": 101,
     "metadata": {},
     "output_type": "execute_result"
    },
    {
     "data": {
      "image/png": "[encoded data removed]",
      "text/plain": [
       "<Figure size 360x360 with 1 Axes>"
      ]
     },
     "metadata": {},
     "output_type": "display_data"
    }
   ],
   "source": [
    "data = pd.DataFrame({'Y Test':y_test , 'Pred':pred},columns=['Y Test','Pred'])\n",
    "sns.lmplot(x='Y Test',y='Pred',data=data,palette='rainbow')\n",
    "data.head()"
   ]
  },
  {
   "cell_type": "markdown",
   "id": "089a3422",
   "metadata": {},
   "source": [
    "# Classification of property type using Logistic Regression, Random forest classifier, MultinomialNB, Decisiontree classifier, KNeighborsClassifier,Gaussian classifier"
   ]
  },
  {
   "cell_type": "code",
   "execution_count": 102,
   "id": "635f62ea",
   "metadata": {},
   "outputs": [
    {
     "name": "stdout",
     "output_type": "stream",
     "text": [
      "<class 'pandas.core.frame.DataFrame'>\n",
      "RangeIndex: 3163 entries, 0 to 3162\n",
      "Data columns (total 6 columns):\n",
      " #   Column        Non-Null Count  Dtype  \n",
      "---  ------        --------------  -----  \n",
      " 0   Beds          3163 non-null   float64\n",
      " 1   bathroom      3163 non-null   float64\n",
      " 2   Balcony       3163 non-null   float64\n",
      " 3   BHKType       3163 non-null   float64\n",
      " 4   CarpetArea    3163 non-null   float64\n",
      " 5   Pricepersqft  3163 non-null   float64\n",
      "dtypes: float64(6)\n",
      "memory usage: 148.4 KB\n"
     ]
    }
   ],
   "source": [
    "df.info()"
   ]
  },
  {
   "cell_type": "code",
   "execution_count": 121,
   "id": "4ea28acd",
   "metadata": {},
   "outputs": [
    {
     "data": {
      "text/plain": [
       "(3163, 20)"
      ]
     },
     "execution_count": 121,
     "metadata": {},
     "output_type": "execute_result"
    }
   ],
   "source": [
    "df.shape"
   ]
  },
  {
   "cell_type": "code",
   "execution_count": 122,
   "id": "f76d6be7",
   "metadata": {},
   "outputs": [
    {
     "name": "stdout",
     "output_type": "stream",
     "text": [
      "<class 'pandas.core.frame.DataFrame'>\n",
      "Int64Index: 3163 entries, 0 to 3162\n",
      "Data columns (total 20 columns):\n",
      " #   Column            Non-Null Count  Dtype  \n",
      "---  ------            --------------  -----  \n",
      " 0   Srno              3163 non-null   float64\n",
      " 1   Address           3163 non-null   object \n",
      " 2   Beds              3163 non-null   float64\n",
      " 3   bathroom          3163 non-null   float64\n",
      " 4   PropertyType      3163 non-null   object \n",
      " 5   Balcony           3163 non-null   float64\n",
      " 6   City              3163 non-null   object \n",
      " 7   BHKType           3163 non-null   float64\n",
      " 8   CarpetArea        3163 non-null   float64\n",
      " 9   Pricepersqft      3163 non-null   float64\n",
      " 10  priceinr          3163 non-null   float64\n",
      " 11  Status            3163 non-null   object \n",
      " 12  YearBuilt         3163 non-null   float64\n",
      " 13  floor             3163 non-null   float64\n",
      " 14  buytotalprice     3163 non-null   int64  \n",
      " 15  carparking        3163 non-null   object \n",
      " 16  Typeofownership   3163 non-null   object \n",
      " 17  Facing            3163 non-null   object \n",
      " 18  Bookingamount     3163 non-null   int64  \n",
      " 19  FurnishingStatus  3163 non-null   object \n",
      "dtypes: float64(10), int64(2), object(8)\n",
      "memory usage: 518.9+ KB\n"
     ]
    }
   ],
   "source": [
    "df.info()"
   ]
  },
  {
   "cell_type": "markdown",
   "id": "5fe229b6",
   "metadata": {},
   "source": [
    "- property type depends upon beds, bathrooms,balcony,bhk type, carpet area,furnishing status"
   ]
  },
  {
   "cell_type": "code",
   "execution_count": 131,
   "id": "a5514f9c",
   "metadata": {},
   "outputs": [],
   "source": [
    "X=df[['Beds','bathroom','Balcony', 'BHKType', 'CarpetArea','carparking','Typeofownership','FurnishingStatus']] #feature columns\n",
    "y=df.PropertyType #predictor variable\n",
    "\n"
   ]
  },
  {
   "cell_type": "code",
   "execution_count": 132,
   "id": "3d7fcaf7",
   "metadata": {},
   "outputs": [
    {
     "name": "stdout",
     "output_type": "stream",
     "text": [
      "X Train Shape  (2530, 8)\n",
      "Y Train Shape  (2530,)\n",
      "X Test Shape  (633, 8)\n",
      "Y Test Shape  (633,)\n"
     ]
    }
   ],
   "source": [
    "X_train, X_test, y_train, y_test = train_test_split(X, y, test_size=0.20, random_state=1)\n",
    "\n",
    "print(\"X Train Shape \",X_train.shape)\n",
    "print(\"Y Train Shape \",y_train.shape)\n",
    "\n",
    "print(\"X Test Shape \",X_test.shape)\n",
    "print(\"Y Test Shape \",y_test.shape)"
   ]
  },
  {
   "cell_type": "code",
   "execution_count": 125,
   "id": "7144f596",
   "metadata": {},
   "outputs": [
    {
     "data": {
      "text/html": [
       "<div>\n",
       "<style scoped>\n",
       "    .dataframe tbody tr th:only-of-type {\n",
       "        vertical-align: middle;\n",
       "    }\n",
       "\n",
       "    .dataframe tbody tr th {\n",
       "        vertical-align: top;\n",
       "    }\n",
       "\n",
       "    .dataframe thead th {\n",
       "        text-align: right;\n",
       "    }\n",
       "</style>\n",
       "<table border=\"1\" class=\"dataframe\">\n",
       "  <thead>\n",
       "    <tr style=\"text-align: right;\">\n",
       "      <th></th>\n",
       "      <th>Srno</th>\n",
       "      <th>Address</th>\n",
       "      <th>Beds</th>\n",
       "      <th>bathroom</th>\n",
       "      <th>PropertyType</th>\n",
       "      <th>Balcony</th>\n",
       "      <th>City</th>\n",
       "      <th>BHKType</th>\n",
       "      <th>CarpetArea</th>\n",
       "      <th>Pricepersqft</th>\n",
       "      <th>priceinr</th>\n",
       "      <th>Status</th>\n",
       "      <th>YearBuilt</th>\n",
       "      <th>floor</th>\n",
       "      <th>buytotalprice</th>\n",
       "      <th>carparking</th>\n",
       "      <th>Typeofownership</th>\n",
       "      <th>Facing</th>\n",
       "      <th>Bookingamount</th>\n",
       "      <th>FurnishingStatus</th>\n",
       "    </tr>\n",
       "  </thead>\n",
       "  <tbody>\n",
       "    <tr>\n",
       "      <th>0</th>\n",
       "      <td>1.0</td>\n",
       "      <td>1813 24th Ave Unit A, Seattle, WA 98122</td>\n",
       "      <td>2.0</td>\n",
       "      <td>2.0</td>\n",
       "      <td>Home</td>\n",
       "      <td>1.0</td>\n",
       "      <td>Seattle, WA</td>\n",
       "      <td>1.0</td>\n",
       "      <td>889.0</td>\n",
       "      <td>602.0</td>\n",
       "      <td>50039.0</td>\n",
       "      <td>ready</td>\n",
       "      <td>2008.0</td>\n",
       "      <td>3.0</td>\n",
       "      <td>535000</td>\n",
       "      <td>yes</td>\n",
       "      <td>individual</td>\n",
       "      <td>east</td>\n",
       "      <td>1000</td>\n",
       "      <td>Semi furnished</td>\n",
       "    </tr>\n",
       "    <tr>\n",
       "      <th>1</th>\n",
       "      <td>2.0</td>\n",
       "      <td>9518 Interlake Ave N, Seattle, WA 98103</td>\n",
       "      <td>3.0</td>\n",
       "      <td>2.0</td>\n",
       "      <td>Home</td>\n",
       "      <td>1.0</td>\n",
       "      <td>Seattle, WA</td>\n",
       "      <td>1.0</td>\n",
       "      <td>1225.0</td>\n",
       "      <td>694.0</td>\n",
       "      <td>57686.0</td>\n",
       "      <td>ready</td>\n",
       "      <td>2008.0</td>\n",
       "      <td>3.0</td>\n",
       "      <td>850000</td>\n",
       "      <td>yes</td>\n",
       "      <td>individual</td>\n",
       "      <td>east</td>\n",
       "      <td>1000</td>\n",
       "      <td>Semi furnished</td>\n",
       "    </tr>\n",
       "    <tr>\n",
       "      <th>2</th>\n",
       "      <td>3.0</td>\n",
       "      <td>1817 24th Ave Unit A, Seattle, WA 98122</td>\n",
       "      <td>3.0</td>\n",
       "      <td>3.0</td>\n",
       "      <td>Home</td>\n",
       "      <td>1.0</td>\n",
       "      <td>Seattle, WA</td>\n",
       "      <td>1.0</td>\n",
       "      <td>1470.0</td>\n",
       "      <td>531.0</td>\n",
       "      <td>44137.0</td>\n",
       "      <td>ready</td>\n",
       "      <td>2008.0</td>\n",
       "      <td>3.0</td>\n",
       "      <td>780000</td>\n",
       "      <td>yes</td>\n",
       "      <td>individual</td>\n",
       "      <td>east</td>\n",
       "      <td>1000</td>\n",
       "      <td>Semi furnished</td>\n",
       "    </tr>\n",
       "    <tr>\n",
       "      <th>3</th>\n",
       "      <td>4.0</td>\n",
       "      <td>2206 28th Ave W, Seattle, WA 98199</td>\n",
       "      <td>3.0</td>\n",
       "      <td>1.0</td>\n",
       "      <td>Home</td>\n",
       "      <td>1.0</td>\n",
       "      <td>Seattle, WA</td>\n",
       "      <td>1.0</td>\n",
       "      <td>958.0</td>\n",
       "      <td>583.0</td>\n",
       "      <td>48459.0</td>\n",
       "      <td>ready</td>\n",
       "      <td>2008.0</td>\n",
       "      <td>3.0</td>\n",
       "      <td>425000</td>\n",
       "      <td>yes</td>\n",
       "      <td>individual</td>\n",
       "      <td>east</td>\n",
       "      <td>1000</td>\n",
       "      <td>Semi furnished</td>\n",
       "    </tr>\n",
       "    <tr>\n",
       "      <th>4</th>\n",
       "      <td>5.0</td>\n",
       "      <td>912 Martin Luther King Jr Way S, Seattle, WA 9...</td>\n",
       "      <td>2.0</td>\n",
       "      <td>1.0</td>\n",
       "      <td>Home</td>\n",
       "      <td>1.0</td>\n",
       "      <td>Seattle, WA</td>\n",
       "      <td>1.0</td>\n",
       "      <td>729.0</td>\n",
       "      <td>760.0</td>\n",
       "      <td>63172.0</td>\n",
       "      <td>ready</td>\n",
       "      <td>2008.0</td>\n",
       "      <td>3.0</td>\n",
       "      <td>488500</td>\n",
       "      <td>yes</td>\n",
       "      <td>individual</td>\n",
       "      <td>east</td>\n",
       "      <td>1000</td>\n",
       "      <td>Semi furnished</td>\n",
       "    </tr>\n",
       "    <tr>\n",
       "      <th>...</th>\n",
       "      <td>...</td>\n",
       "      <td>...</td>\n",
       "      <td>...</td>\n",
       "      <td>...</td>\n",
       "      <td>...</td>\n",
       "      <td>...</td>\n",
       "      <td>...</td>\n",
       "      <td>...</td>\n",
       "      <td>...</td>\n",
       "      <td>...</td>\n",
       "      <td>...</td>\n",
       "      <td>...</td>\n",
       "      <td>...</td>\n",
       "      <td>...</td>\n",
       "      <td>...</td>\n",
       "      <td>...</td>\n",
       "      <td>...</td>\n",
       "      <td>...</td>\n",
       "      <td>...</td>\n",
       "      <td>...</td>\n",
       "    </tr>\n",
       "    <tr>\n",
       "      <th>3158</th>\n",
       "      <td>3167.0</td>\n",
       "      <td>3605 W Bethany Home Rd #2, Phoenix, AZ 85019</td>\n",
       "      <td>3.0</td>\n",
       "      <td>1.5</td>\n",
       "      <td>home</td>\n",
       "      <td>2.0</td>\n",
       "      <td>Phoenix</td>\n",
       "      <td>2.0</td>\n",
       "      <td>3580.0</td>\n",
       "      <td>517.0</td>\n",
       "      <td>42974.0</td>\n",
       "      <td>ready</td>\n",
       "      <td>2015.0</td>\n",
       "      <td>6.0</td>\n",
       "      <td>425000</td>\n",
       "      <td>no</td>\n",
       "      <td>individual</td>\n",
       "      <td>east</td>\n",
       "      <td>5549</td>\n",
       "      <td>fully furnished</td>\n",
       "    </tr>\n",
       "    <tr>\n",
       "      <th>3159</th>\n",
       "      <td>3168.0</td>\n",
       "      <td>6602 E Corrine Dr, Scottsdale, AZ 85254</td>\n",
       "      <td>4.0</td>\n",
       "      <td>4.0</td>\n",
       "      <td>home</td>\n",
       "      <td>2.0</td>\n",
       "      <td>Phoenix</td>\n",
       "      <td>2.0</td>\n",
       "      <td>1448.0</td>\n",
       "      <td>335.0</td>\n",
       "      <td>27846.0</td>\n",
       "      <td>ready</td>\n",
       "      <td>2015.0</td>\n",
       "      <td>6.0</td>\n",
       "      <td>219400</td>\n",
       "      <td>no</td>\n",
       "      <td>individual</td>\n",
       "      <td>east</td>\n",
       "      <td>5550</td>\n",
       "      <td>fully furnished</td>\n",
       "    </tr>\n",
       "    <tr>\n",
       "      <th>3160</th>\n",
       "      <td>3169.0</td>\n",
       "      <td>1219 E Silverwood Dr, Phoenix, AZ 85048</td>\n",
       "      <td>3.0</td>\n",
       "      <td>2.0</td>\n",
       "      <td>home</td>\n",
       "      <td>2.0</td>\n",
       "      <td>Phoenix</td>\n",
       "      <td>2.0</td>\n",
       "      <td>1256.0</td>\n",
       "      <td>271.0</td>\n",
       "      <td>22526.0</td>\n",
       "      <td>ready</td>\n",
       "      <td>2015.0</td>\n",
       "      <td>6.0</td>\n",
       "      <td>1850000</td>\n",
       "      <td>no</td>\n",
       "      <td>individual</td>\n",
       "      <td>east</td>\n",
       "      <td>5551</td>\n",
       "      <td>fully furnished</td>\n",
       "    </tr>\n",
       "    <tr>\n",
       "      <th>3161</th>\n",
       "      <td>3170.0</td>\n",
       "      <td>17818 N 45th Ave, Glendale, AZ 85308</td>\n",
       "      <td>3.0</td>\n",
       "      <td>2.0</td>\n",
       "      <td>home</td>\n",
       "      <td>2.0</td>\n",
       "      <td>Phoenix</td>\n",
       "      <td>2.0</td>\n",
       "      <td>1680.0</td>\n",
       "      <td>223.0</td>\n",
       "      <td>18536.0</td>\n",
       "      <td>ready</td>\n",
       "      <td>2015.0</td>\n",
       "      <td>6.0</td>\n",
       "      <td>485000</td>\n",
       "      <td>no</td>\n",
       "      <td>individual</td>\n",
       "      <td>east</td>\n",
       "      <td>5552</td>\n",
       "      <td>fully furnished</td>\n",
       "    </tr>\n",
       "    <tr>\n",
       "      <th>3162</th>\n",
       "      <td>3171.0</td>\n",
       "      <td>4029 N 75th Dr, Phoenix, AZ 85033</td>\n",
       "      <td>4.0</td>\n",
       "      <td>2.0</td>\n",
       "      <td>home</td>\n",
       "      <td>1.0</td>\n",
       "      <td>Phoenix</td>\n",
       "      <td>2.0</td>\n",
       "      <td>1762.0</td>\n",
       "      <td>293.0</td>\n",
       "      <td>24355.0</td>\n",
       "      <td>ready</td>\n",
       "      <td>2015.0</td>\n",
       "      <td>6.0</td>\n",
       "      <td>340000</td>\n",
       "      <td>no</td>\n",
       "      <td>individual</td>\n",
       "      <td>east</td>\n",
       "      <td>5553</td>\n",
       "      <td>fully furnished</td>\n",
       "    </tr>\n",
       "  </tbody>\n",
       "</table>\n",
       "<p>3163 rows × 20 columns</p>\n",
       "</div>"
      ],
      "text/plain": [
       "        Srno                                            Address  Beds  \\\n",
       "0        1.0            1813 24th Ave Unit A, Seattle, WA 98122   2.0   \n",
       "1        2.0            9518 Interlake Ave N, Seattle, WA 98103   3.0   \n",
       "2        3.0            1817 24th Ave Unit A, Seattle, WA 98122   3.0   \n",
       "3        4.0                 2206 28th Ave W, Seattle, WA 98199   3.0   \n",
       "4        5.0  912 Martin Luther King Jr Way S, Seattle, WA 9...   2.0   \n",
       "...      ...                                                ...   ...   \n",
       "3158  3167.0       3605 W Bethany Home Rd #2, Phoenix, AZ 85019   3.0   \n",
       "3159  3168.0            6602 E Corrine Dr, Scottsdale, AZ 85254   4.0   \n",
       "3160  3169.0            1219 E Silverwood Dr, Phoenix, AZ 85048   3.0   \n",
       "3161  3170.0               17818 N 45th Ave, Glendale, AZ 85308   3.0   \n",
       "3162  3171.0                  4029 N 75th Dr, Phoenix, AZ 85033   4.0   \n",
       "\n",
       "      bathroom PropertyType  Balcony         City  BHKType  CarpetArea  \\\n",
       "0          2.0         Home      1.0  Seattle, WA      1.0       889.0   \n",
       "1          2.0         Home      1.0  Seattle, WA      1.0      1225.0   \n",
       "2          3.0         Home      1.0  Seattle, WA      1.0      1470.0   \n",
       "3          1.0         Home      1.0  Seattle, WA      1.0       958.0   \n",
       "4          1.0         Home      1.0  Seattle, WA      1.0       729.0   \n",
       "...        ...          ...      ...          ...      ...         ...   \n",
       "3158       1.5         home      2.0      Phoenix      2.0      3580.0   \n",
       "3159       4.0         home      2.0      Phoenix      2.0      1448.0   \n",
       "3160       2.0         home      2.0      Phoenix      2.0      1256.0   \n",
       "3161       2.0         home      2.0      Phoenix      2.0      1680.0   \n",
       "3162       2.0         home      1.0      Phoenix      2.0      1762.0   \n",
       "\n",
       "      Pricepersqft  priceinr Status  YearBuilt  floor  buytotalprice  \\\n",
       "0            602.0   50039.0  ready     2008.0    3.0         535000   \n",
       "1            694.0   57686.0  ready     2008.0    3.0         850000   \n",
       "2            531.0   44137.0  ready     2008.0    3.0         780000   \n",
       "3            583.0   48459.0  ready     2008.0    3.0         425000   \n",
       "4            760.0   63172.0  ready     2008.0    3.0         488500   \n",
       "...            ...       ...    ...        ...    ...            ...   \n",
       "3158         517.0   42974.0  ready     2015.0    6.0         425000   \n",
       "3159         335.0   27846.0  ready     2015.0    6.0         219400   \n",
       "3160         271.0   22526.0  ready     2015.0    6.0        1850000   \n",
       "3161         223.0   18536.0  ready     2015.0    6.0         485000   \n",
       "3162         293.0   24355.0  ready     2015.0    6.0         340000   \n",
       "\n",
       "     carparking Typeofownership Facing  Bookingamount FurnishingStatus  \n",
       "0           yes      individual   east           1000   Semi furnished  \n",
       "1           yes      individual   east           1000   Semi furnished  \n",
       "2           yes      individual   east           1000   Semi furnished  \n",
       "3           yes      individual   east           1000   Semi furnished  \n",
       "4           yes      individual   east           1000   Semi furnished  \n",
       "...         ...             ...    ...            ...              ...  \n",
       "3158         no      individual   east           5549  fully furnished  \n",
       "3159         no      individual   east           5550  fully furnished  \n",
       "3160         no      individual   east           5551  fully furnished  \n",
       "3161         no      individual   east           5552  fully furnished  \n",
       "3162         no      individual   east           5553  fully furnished  \n",
       "\n",
       "[3163 rows x 20 columns]"
      ]
     },
     "execution_count": 125,
     "metadata": {},
     "output_type": "execute_result"
    }
   ],
   "source": [
    "df"
   ]
  },
  {
   "cell_type": "code",
   "execution_count": 130,
   "id": "48a760d4",
   "metadata": {},
   "outputs": [
    {
     "data": {
      "text/html": [
       "<div>\n",
       "<style scoped>\n",
       "    .dataframe tbody tr th:only-of-type {\n",
       "        vertical-align: middle;\n",
       "    }\n",
       "\n",
       "    .dataframe tbody tr th {\n",
       "        vertical-align: top;\n",
       "    }\n",
       "\n",
       "    .dataframe thead th {\n",
       "        text-align: right;\n",
       "    }\n",
       "</style>\n",
       "<table border=\"1\" class=\"dataframe\">\n",
       "  <thead>\n",
       "    <tr style=\"text-align: right;\">\n",
       "      <th></th>\n",
       "      <th>Srno</th>\n",
       "      <th>Address</th>\n",
       "      <th>Beds</th>\n",
       "      <th>bathroom</th>\n",
       "      <th>PropertyType</th>\n",
       "      <th>Balcony</th>\n",
       "      <th>City</th>\n",
       "      <th>BHKType</th>\n",
       "      <th>CarpetArea</th>\n",
       "      <th>Pricepersqft</th>\n",
       "      <th>priceinr</th>\n",
       "      <th>Status</th>\n",
       "      <th>YearBuilt</th>\n",
       "      <th>floor</th>\n",
       "      <th>buytotalprice</th>\n",
       "      <th>carparking</th>\n",
       "      <th>Typeofownership</th>\n",
       "      <th>Facing</th>\n",
       "      <th>Bookingamount</th>\n",
       "      <th>FurnishingStatus</th>\n",
       "    </tr>\n",
       "  </thead>\n",
       "  <tbody>\n",
       "    <tr>\n",
       "      <th>0</th>\n",
       "      <td>1.0</td>\n",
       "      <td>1813 24th Ave Unit A, Seattle, WA 98122</td>\n",
       "      <td>2.0</td>\n",
       "      <td>2.0</td>\n",
       "      <td>0.0</td>\n",
       "      <td>1.0</td>\n",
       "      <td>Seattle, WA</td>\n",
       "      <td>1.0</td>\n",
       "      <td>889.0</td>\n",
       "      <td>602.0</td>\n",
       "      <td>50039.0</td>\n",
       "      <td>2.0</td>\n",
       "      <td>2008.0</td>\n",
       "      <td>3.0</td>\n",
       "      <td>535000</td>\n",
       "      <td>1.0</td>\n",
       "      <td>3.0</td>\n",
       "      <td>east</td>\n",
       "      <td>1000</td>\n",
       "      <td>0.0</td>\n",
       "    </tr>\n",
       "    <tr>\n",
       "      <th>1</th>\n",
       "      <td>2.0</td>\n",
       "      <td>9518 Interlake Ave N, Seattle, WA 98103</td>\n",
       "      <td>3.0</td>\n",
       "      <td>2.0</td>\n",
       "      <td>0.0</td>\n",
       "      <td>1.0</td>\n",
       "      <td>Seattle, WA</td>\n",
       "      <td>1.0</td>\n",
       "      <td>1225.0</td>\n",
       "      <td>694.0</td>\n",
       "      <td>57686.0</td>\n",
       "      <td>2.0</td>\n",
       "      <td>2008.0</td>\n",
       "      <td>3.0</td>\n",
       "      <td>850000</td>\n",
       "      <td>1.0</td>\n",
       "      <td>3.0</td>\n",
       "      <td>east</td>\n",
       "      <td>1000</td>\n",
       "      <td>0.0</td>\n",
       "    </tr>\n",
       "    <tr>\n",
       "      <th>2</th>\n",
       "      <td>3.0</td>\n",
       "      <td>1817 24th Ave Unit A, Seattle, WA 98122</td>\n",
       "      <td>3.0</td>\n",
       "      <td>3.0</td>\n",
       "      <td>0.0</td>\n",
       "      <td>1.0</td>\n",
       "      <td>Seattle, WA</td>\n",
       "      <td>1.0</td>\n",
       "      <td>1470.0</td>\n",
       "      <td>531.0</td>\n",
       "      <td>44137.0</td>\n",
       "      <td>2.0</td>\n",
       "      <td>2008.0</td>\n",
       "      <td>3.0</td>\n",
       "      <td>780000</td>\n",
       "      <td>1.0</td>\n",
       "      <td>3.0</td>\n",
       "      <td>east</td>\n",
       "      <td>1000</td>\n",
       "      <td>0.0</td>\n",
       "    </tr>\n",
       "    <tr>\n",
       "      <th>3</th>\n",
       "      <td>4.0</td>\n",
       "      <td>2206 28th Ave W, Seattle, WA 98199</td>\n",
       "      <td>3.0</td>\n",
       "      <td>1.0</td>\n",
       "      <td>0.0</td>\n",
       "      <td>1.0</td>\n",
       "      <td>Seattle, WA</td>\n",
       "      <td>1.0</td>\n",
       "      <td>958.0</td>\n",
       "      <td>583.0</td>\n",
       "      <td>48459.0</td>\n",
       "      <td>2.0</td>\n",
       "      <td>2008.0</td>\n",
       "      <td>3.0</td>\n",
       "      <td>425000</td>\n",
       "      <td>1.0</td>\n",
       "      <td>3.0</td>\n",
       "      <td>east</td>\n",
       "      <td>1000</td>\n",
       "      <td>0.0</td>\n",
       "    </tr>\n",
       "    <tr>\n",
       "      <th>4</th>\n",
       "      <td>5.0</td>\n",
       "      <td>912 Martin Luther King Jr Way S, Seattle, WA 9...</td>\n",
       "      <td>2.0</td>\n",
       "      <td>1.0</td>\n",
       "      <td>0.0</td>\n",
       "      <td>1.0</td>\n",
       "      <td>Seattle, WA</td>\n",
       "      <td>1.0</td>\n",
       "      <td>729.0</td>\n",
       "      <td>760.0</td>\n",
       "      <td>63172.0</td>\n",
       "      <td>2.0</td>\n",
       "      <td>2008.0</td>\n",
       "      <td>3.0</td>\n",
       "      <td>488500</td>\n",
       "      <td>1.0</td>\n",
       "      <td>3.0</td>\n",
       "      <td>east</td>\n",
       "      <td>1000</td>\n",
       "      <td>0.0</td>\n",
       "    </tr>\n",
       "  </tbody>\n",
       "</table>\n",
       "</div>"
      ],
      "text/plain": [
       "   Srno                                            Address  Beds  bathroom  \\\n",
       "0   1.0            1813 24th Ave Unit A, Seattle, WA 98122   2.0       2.0   \n",
       "1   2.0            9518 Interlake Ave N, Seattle, WA 98103   3.0       2.0   \n",
       "2   3.0            1817 24th Ave Unit A, Seattle, WA 98122   3.0       3.0   \n",
       "3   4.0                 2206 28th Ave W, Seattle, WA 98199   3.0       1.0   \n",
       "4   5.0  912 Martin Luther King Jr Way S, Seattle, WA 9...   2.0       1.0   \n",
       "\n",
       "   PropertyType  Balcony         City  BHKType  CarpetArea  Pricepersqft  \\\n",
       "0           0.0      1.0  Seattle, WA      1.0       889.0         602.0   \n",
       "1           0.0      1.0  Seattle, WA      1.0      1225.0         694.0   \n",
       "2           0.0      1.0  Seattle, WA      1.0      1470.0         531.0   \n",
       "3           0.0      1.0  Seattle, WA      1.0       958.0         583.0   \n",
       "4           0.0      1.0  Seattle, WA      1.0       729.0         760.0   \n",
       "\n",
       "   priceinr  Status  YearBuilt  floor  buytotalprice  carparking  \\\n",
       "0   50039.0     2.0     2008.0    3.0         535000         1.0   \n",
       "1   57686.0     2.0     2008.0    3.0         850000         1.0   \n",
       "2   44137.0     2.0     2008.0    3.0         780000         1.0   \n",
       "3   48459.0     2.0     2008.0    3.0         425000         1.0   \n",
       "4   63172.0     2.0     2008.0    3.0         488500         1.0   \n",
       "\n",
       "   Typeofownership Facing  Bookingamount  FurnishingStatus  \n",
       "0              3.0   east           1000               0.0  \n",
       "1              3.0   east           1000               0.0  \n",
       "2              3.0   east           1000               0.0  \n",
       "3              3.0   east           1000               0.0  \n",
       "4              3.0   east           1000               0.0  "
      ]
     },
     "execution_count": 130,
     "metadata": {},
     "output_type": "execute_result"
    }
   ],
   "source": [
    "# Ordinal Encoding for ordinal variables\n",
    "from sklearn.preprocessing import OrdinalEncoder\n",
    "oe = OrdinalEncoder()\n",
    "def ordinal_encode(df, column):\n",
    "    df[column] = oe.fit_transform(df[column])\n",
    "    return df\n",
    "\n",
    "oe_col = ['PropertyType', 'Status', 'carparking', 'Typeofownership', 'FurnishingStatus']\n",
    "df=ordinal_encode(df, oe_col)\n",
    "df.head()"
   ]
  },
  {
   "cell_type": "markdown",
   "id": "0b465bcb",
   "metadata": {},
   "source": [
    "# Logistic Regression model"
   ]
  },
  {
   "cell_type": "code",
   "execution_count": 133,
   "id": "606cc6ec",
   "metadata": {},
   "outputs": [
    {
     "name": "stdout",
     "output_type": "stream",
     "text": [
      "Accuracy score for Logistic Regression test data is: 0.9036334913112164\n"
     ]
    }
   ],
   "source": [
    "#Logistic Regression model\n",
    "logreg = LogisticRegression()\n",
    "logreg.fit(X_train,y_train)\n",
    "\n",
    "y_pred_train = logreg.predict(X_train)  \n",
    "y_pred_test = logreg.predict(X_test)  \n",
    "\n",
    "#Acuuracy score\n",
    "print('Accuracy score for Logistic Regression test data is:', accuracy_score(y_test,y_pred_test))\n"
   ]
  },
  {
   "cell_type": "markdown",
   "id": "02bb20d9",
   "metadata": {},
   "source": [
    "# Random forest classifier"
   ]
  },
  {
   "cell_type": "code",
   "execution_count": 134,
   "id": "41fe57f9",
   "metadata": {},
   "outputs": [
    {
     "name": "stdout",
     "output_type": "stream",
     "text": [
      "Accuracy score for test data using Random Forest : 0.9778830963665087\n"
     ]
    }
   ],
   "source": [
    "# Random forest classifier\n",
    "\n",
    "rfclass = RandomForestClassifier(random_state = 0)\n",
    "rfclass.fit(X_train, y_train)\n",
    "\n",
    "y_pred_train = rfclass.predict(X_train)\n",
    "y_pred_test = rfclass.predict(X_test)\n",
    "\n",
    "#Accuracy score\n",
    "print('Accuracy score for test data using Random Forest :', accuracy_score(y_test,y_pred_test))"
   ]
  },
  {
   "cell_type": "markdown",
   "id": "cf85485e",
   "metadata": {},
   "source": [
    "# MultinomialNB"
   ]
  },
  {
   "cell_type": "code",
   "execution_count": 135,
   "id": "2f3cb855",
   "metadata": {},
   "outputs": [
    {
     "name": "stdout",
     "output_type": "stream",
     "text": [
      "Accuracy score for test data using Naive Bayes : 0.7693522906793049\n"
     ]
    }
   ],
   "source": [
    "# Naive Bayes\n",
    "from sklearn.naive_bayes import MultinomialNB\n",
    "# Applying NB classifier.\n",
    "#Naive = naive_bayes.MultinomialNB()\n",
    "nbclass = MultinomialNB()\n",
    "nbclass.fit(X_train, y_train)\n",
    "y_pred_train = nbclass.predict(X_train)\n",
    "y_pred_test = nbclass.predict(X_test)\n",
    "\n",
    "#Accuracy score\n",
    "print('Accuracy score for test data using Naive Bayes :', accuracy_score(y_test,y_pred_test))"
   ]
  },
  {
   "cell_type": "markdown",
   "id": "60a58191",
   "metadata": {},
   "source": [
    "# Decision Tree Classifier"
   ]
  },
  {
   "cell_type": "code",
   "execution_count": 136,
   "id": "220d4733",
   "metadata": {},
   "outputs": [
    {
     "name": "stdout",
     "output_type": "stream",
     "text": [
      "Accuracy score for test data using DecisionTreeClassifier : 0.9636650868878357\n"
     ]
    }
   ],
   "source": [
    "# Applying Decision Tree Classifier.\n",
    "from sklearn.tree import DecisionTreeClassifier\n",
    "dtreeclass=DecisionTreeClassifier(max_depth=10,random_state=101,max_features=None,min_samples_leaf=15)\n",
    "dtreeclass.fit(X_train,y_train)\n",
    "y_pred_train = dtreeclass.predict(X_train)\n",
    "y_pred_test = dtreeclass.predict(X_test)\n",
    "\n",
    "#Accuracy score\n",
    "print('Accuracy score for test data using DecisionTreeClassifier :', accuracy_score(y_test,y_pred_test))"
   ]
  },
  {
   "cell_type": "markdown",
   "id": "58fd2e5b",
   "metadata": {},
   "source": [
    "# KNeighborsClassifier"
   ]
  },
  {
   "cell_type": "code",
   "execution_count": 137,
   "id": "4bcf5e2b",
   "metadata": {},
   "outputs": [
    {
     "name": "stdout",
     "output_type": "stream",
     "text": [
      "Accuracy score for test data using KNeighborsClassifier : 0.7093206951026856\n"
     ]
    }
   ],
   "source": [
    "from sklearn.neighbors import KNeighborsClassifier\n",
    "knnclass = KNeighborsClassifier(n_neighbors=3)\n",
    "knnclass.fit(X_train,y_train)\n",
    "y_pred_train = knnclass.predict(X_train)\n",
    "y_pred_test = knnclass.predict(X_test)\n",
    "\n",
    "#Accuracy score\n",
    "print('Accuracy score for test data using KNeighborsClassifier :', accuracy_score(y_test,y_pred_test))"
   ]
  },
  {
   "cell_type": "markdown",
   "id": "c9757877",
   "metadata": {},
   "source": [
    "# GaussianNB"
   ]
  },
  {
   "cell_type": "code",
   "execution_count": 138,
   "id": "00e43aa9",
   "metadata": {},
   "outputs": [
    {
     "name": "stdout",
     "output_type": "stream",
     "text": [
      "Accuracy score for test data using GaussianNB : 0.8641390205371248\n"
     ]
    }
   ],
   "source": [
    "from sklearn.naive_bayes import GaussianNB\n",
    "gaussclass = GaussianNB()\n",
    "gaussclass.fit(X_train,y_train)\n",
    "y_pred_train = gaussclass.predict(X_train)\n",
    "y_pred_test = gaussclass.predict(X_test)\n",
    "\n",
    "#Accuracy score\n",
    "print('Accuracy score for test data using GaussianNB :', accuracy_score(y_test,y_pred_test))"
   ]
  },
  {
   "cell_type": "markdown",
   "id": "9f9631b5",
   "metadata": {},
   "source": [
    "### Random forest classifier performs best in prediction of property type"
   ]
  },
  {
   "cell_type": "code",
   "execution_count": null,
   "id": "7828dba6",
   "metadata": {},
   "outputs": [],
   "source": []
  }
 ],
 "metadata": {
  "kernelspec": {
   "display_name": "Python 3",
   "language": "python",
   "name": "python3"
  },
  "language_info": {
   "codemirror_mode": {
    "name": "ipython",
    "version": 3
   },
   "file_extension": ".py",
   "mimetype": "text/x-python",
   "name": "python",
   "nbconvert_exporter": "python",
   "pygments_lexer": "ipython3",
   "version": "3.7.4"
  }
 },
 "nbformat": 4,
 "nbformat_minor": 5
}
